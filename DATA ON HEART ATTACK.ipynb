{
 "cells": [
  {
   "cell_type": "code",
   "execution_count": 53,
   "id": "54f0352b",
   "metadata": {},
   "outputs": [],
   "source": [
    "#IMPORTING THE LIBRARIES\n",
    "\n",
    "import numpy as np\n",
    "import pandas as pd\n",
    "import seaborn as sns\n",
    "import matplotlib.pyplot as plt\n",
    "from scipy.stats import norm\n",
    "from sklearn.preprocessing import LabelEncoder\n",
    "from sklearn.impute import SimpleImputer\n",
    "from sklearn.model_selection import train_test_split\n",
    "from sklearn.preprocessing import StandardScaler\n",
    "from sklearn.svm import SVC\n",
    "from sklearn.tree import DecisionTreeClassifier\n",
    "from sklearn.ensemble import RandomForestClassifier\n",
    "from sklearn.neighbors import KNeighborsClassifier\n",
    "from sklearn.naive_bayes import MultinomialNB\n",
    "from sklearn.naive_bayes import GaussianNB\n",
    "from sklearn.naive_bayes import BernoulliNB\n",
    "from sklearn.metrics import mean_squared_error\n",
    "from sklearn.model_selection import KFold,cross_val_score\n"
   ]
  },
  {
   "cell_type": "code",
   "execution_count": 54,
   "id": "6f66adc5",
   "metadata": {},
   "outputs": [
    {
     "data": {
      "text/plain": [
       "(1319, 9)"
      ]
     },
     "execution_count": 54,
     "metadata": {},
     "output_type": "execute_result"
    }
   ],
   "source": [
    "#LOADING THE DATASET\n",
    "\n",
    "df = pd.read_csv(\"C:\\\\Users\\\\Ritika Kumari\\\\Downloads\\\\archive (11)\\\\Heart Attack.csv\")\n",
    "df.shape"
   ]
  },
  {
   "cell_type": "code",
   "execution_count": 55,
   "id": "f00d22c8",
   "metadata": {},
   "outputs": [
    {
     "data": {
      "text/html": [
       "<div>\n",
       "<style scoped>\n",
       "    .dataframe tbody tr th:only-of-type {\n",
       "        vertical-align: middle;\n",
       "    }\n",
       "\n",
       "    .dataframe tbody tr th {\n",
       "        vertical-align: top;\n",
       "    }\n",
       "\n",
       "    .dataframe thead th {\n",
       "        text-align: right;\n",
       "    }\n",
       "</style>\n",
       "<table border=\"1\" class=\"dataframe\">\n",
       "  <thead>\n",
       "    <tr style=\"text-align: right;\">\n",
       "      <th></th>\n",
       "      <th>age</th>\n",
       "      <th>gender</th>\n",
       "      <th>impluse</th>\n",
       "      <th>pressurehight</th>\n",
       "      <th>pressurelow</th>\n",
       "      <th>glucose</th>\n",
       "      <th>kcm</th>\n",
       "      <th>troponin</th>\n",
       "      <th>class</th>\n",
       "    </tr>\n",
       "  </thead>\n",
       "  <tbody>\n",
       "    <tr>\n",
       "      <th>0</th>\n",
       "      <td>64</td>\n",
       "      <td>1</td>\n",
       "      <td>66</td>\n",
       "      <td>160</td>\n",
       "      <td>83</td>\n",
       "      <td>160.0</td>\n",
       "      <td>1.80</td>\n",
       "      <td>0.012</td>\n",
       "      <td>negative</td>\n",
       "    </tr>\n",
       "    <tr>\n",
       "      <th>1</th>\n",
       "      <td>21</td>\n",
       "      <td>1</td>\n",
       "      <td>94</td>\n",
       "      <td>98</td>\n",
       "      <td>46</td>\n",
       "      <td>296.0</td>\n",
       "      <td>6.75</td>\n",
       "      <td>1.060</td>\n",
       "      <td>positive</td>\n",
       "    </tr>\n",
       "    <tr>\n",
       "      <th>2</th>\n",
       "      <td>55</td>\n",
       "      <td>1</td>\n",
       "      <td>64</td>\n",
       "      <td>160</td>\n",
       "      <td>77</td>\n",
       "      <td>270.0</td>\n",
       "      <td>1.99</td>\n",
       "      <td>0.003</td>\n",
       "      <td>negative</td>\n",
       "    </tr>\n",
       "    <tr>\n",
       "      <th>3</th>\n",
       "      <td>64</td>\n",
       "      <td>1</td>\n",
       "      <td>70</td>\n",
       "      <td>120</td>\n",
       "      <td>55</td>\n",
       "      <td>270.0</td>\n",
       "      <td>13.87</td>\n",
       "      <td>0.122</td>\n",
       "      <td>positive</td>\n",
       "    </tr>\n",
       "    <tr>\n",
       "      <th>4</th>\n",
       "      <td>55</td>\n",
       "      <td>1</td>\n",
       "      <td>64</td>\n",
       "      <td>112</td>\n",
       "      <td>65</td>\n",
       "      <td>300.0</td>\n",
       "      <td>1.08</td>\n",
       "      <td>0.003</td>\n",
       "      <td>negative</td>\n",
       "    </tr>\n",
       "  </tbody>\n",
       "</table>\n",
       "</div>"
      ],
      "text/plain": [
       "   age  gender  impluse  pressurehight  pressurelow  glucose    kcm  troponin  \\\n",
       "0   64       1       66            160           83    160.0   1.80     0.012   \n",
       "1   21       1       94             98           46    296.0   6.75     1.060   \n",
       "2   55       1       64            160           77    270.0   1.99     0.003   \n",
       "3   64       1       70            120           55    270.0  13.87     0.122   \n",
       "4   55       1       64            112           65    300.0   1.08     0.003   \n",
       "\n",
       "      class  \n",
       "0  negative  \n",
       "1  positive  \n",
       "2  negative  \n",
       "3  positive  \n",
       "4  negative  "
      ]
     },
     "execution_count": 55,
     "metadata": {},
     "output_type": "execute_result"
    }
   ],
   "source": [
    "#CHECKING THE TOP VALUES OF THE DATAFRAME\n",
    "\n",
    "df.head()"
   ]
  },
  {
   "cell_type": "code",
   "execution_count": 56,
   "id": "46e4f8cd",
   "metadata": {},
   "outputs": [],
   "source": [
    "#DISPLAYING ALL COLUMNS AND ROWS\n",
    "\n",
    "pd.set_option(\"display.max_columns\",None)\n",
    "pd.set_option(\"display.max_rows\",None)"
   ]
  },
  {
   "cell_type": "code",
   "execution_count": 57,
   "id": "f9ca0c19",
   "metadata": {},
   "outputs": [
    {
     "data": {
      "text/html": [
       "<div>\n",
       "<style scoped>\n",
       "    .dataframe tbody tr th:only-of-type {\n",
       "        vertical-align: middle;\n",
       "    }\n",
       "\n",
       "    .dataframe tbody tr th {\n",
       "        vertical-align: top;\n",
       "    }\n",
       "\n",
       "    .dataframe thead th {\n",
       "        text-align: right;\n",
       "    }\n",
       "</style>\n",
       "<table border=\"1\" class=\"dataframe\">\n",
       "  <thead>\n",
       "    <tr style=\"text-align: right;\">\n",
       "      <th></th>\n",
       "      <th>count</th>\n",
       "      <th>mean</th>\n",
       "      <th>std</th>\n",
       "      <th>min</th>\n",
       "      <th>25%</th>\n",
       "      <th>50%</th>\n",
       "      <th>75%</th>\n",
       "      <th>max</th>\n",
       "    </tr>\n",
       "  </thead>\n",
       "  <tbody>\n",
       "    <tr>\n",
       "      <th>age</th>\n",
       "      <td>1319.0</td>\n",
       "      <td>56.191812</td>\n",
       "      <td>13.647315</td>\n",
       "      <td>14.000</td>\n",
       "      <td>47.000</td>\n",
       "      <td>58.000</td>\n",
       "      <td>65.0000</td>\n",
       "      <td>103.0</td>\n",
       "    </tr>\n",
       "    <tr>\n",
       "      <th>gender</th>\n",
       "      <td>1319.0</td>\n",
       "      <td>0.659591</td>\n",
       "      <td>0.474027</td>\n",
       "      <td>0.000</td>\n",
       "      <td>0.000</td>\n",
       "      <td>1.000</td>\n",
       "      <td>1.0000</td>\n",
       "      <td>1.0</td>\n",
       "    </tr>\n",
       "    <tr>\n",
       "      <th>impluse</th>\n",
       "      <td>1319.0</td>\n",
       "      <td>78.336619</td>\n",
       "      <td>51.630270</td>\n",
       "      <td>20.000</td>\n",
       "      <td>64.000</td>\n",
       "      <td>74.000</td>\n",
       "      <td>85.0000</td>\n",
       "      <td>1111.0</td>\n",
       "    </tr>\n",
       "    <tr>\n",
       "      <th>pressurehight</th>\n",
       "      <td>1319.0</td>\n",
       "      <td>127.170584</td>\n",
       "      <td>26.122720</td>\n",
       "      <td>42.000</td>\n",
       "      <td>110.000</td>\n",
       "      <td>124.000</td>\n",
       "      <td>143.0000</td>\n",
       "      <td>223.0</td>\n",
       "    </tr>\n",
       "    <tr>\n",
       "      <th>pressurelow</th>\n",
       "      <td>1319.0</td>\n",
       "      <td>72.269143</td>\n",
       "      <td>14.033924</td>\n",
       "      <td>38.000</td>\n",
       "      <td>62.000</td>\n",
       "      <td>72.000</td>\n",
       "      <td>81.0000</td>\n",
       "      <td>154.0</td>\n",
       "    </tr>\n",
       "    <tr>\n",
       "      <th>glucose</th>\n",
       "      <td>1319.0</td>\n",
       "      <td>146.634344</td>\n",
       "      <td>74.923045</td>\n",
       "      <td>35.000</td>\n",
       "      <td>98.000</td>\n",
       "      <td>116.000</td>\n",
       "      <td>169.5000</td>\n",
       "      <td>541.0</td>\n",
       "    </tr>\n",
       "    <tr>\n",
       "      <th>kcm</th>\n",
       "      <td>1319.0</td>\n",
       "      <td>15.274306</td>\n",
       "      <td>46.327083</td>\n",
       "      <td>0.321</td>\n",
       "      <td>1.655</td>\n",
       "      <td>2.850</td>\n",
       "      <td>5.8050</td>\n",
       "      <td>300.0</td>\n",
       "    </tr>\n",
       "    <tr>\n",
       "      <th>troponin</th>\n",
       "      <td>1319.0</td>\n",
       "      <td>0.360942</td>\n",
       "      <td>1.154568</td>\n",
       "      <td>0.001</td>\n",
       "      <td>0.006</td>\n",
       "      <td>0.014</td>\n",
       "      <td>0.0855</td>\n",
       "      <td>10.3</td>\n",
       "    </tr>\n",
       "  </tbody>\n",
       "</table>\n",
       "</div>"
      ],
      "text/plain": [
       "                count        mean        std     min      25%      50%  \\\n",
       "age            1319.0   56.191812  13.647315  14.000   47.000   58.000   \n",
       "gender         1319.0    0.659591   0.474027   0.000    0.000    1.000   \n",
       "impluse        1319.0   78.336619  51.630270  20.000   64.000   74.000   \n",
       "pressurehight  1319.0  127.170584  26.122720  42.000  110.000  124.000   \n",
       "pressurelow    1319.0   72.269143  14.033924  38.000   62.000   72.000   \n",
       "glucose        1319.0  146.634344  74.923045  35.000   98.000  116.000   \n",
       "kcm            1319.0   15.274306  46.327083   0.321    1.655    2.850   \n",
       "troponin       1319.0    0.360942   1.154568   0.001    0.006    0.014   \n",
       "\n",
       "                    75%     max  \n",
       "age             65.0000   103.0  \n",
       "gender           1.0000     1.0  \n",
       "impluse         85.0000  1111.0  \n",
       "pressurehight  143.0000   223.0  \n",
       "pressurelow     81.0000   154.0  \n",
       "glucose        169.5000   541.0  \n",
       "kcm              5.8050   300.0  \n",
       "troponin         0.0855    10.3  "
      ]
     },
     "execution_count": 57,
     "metadata": {},
     "output_type": "execute_result"
    }
   ],
   "source": [
    "#GETTING THE DISCRIPTION OF THE DATAFRAME\n",
    "\n",
    "df.describe().T"
   ]
  },
  {
   "cell_type": "code",
   "execution_count": 58,
   "id": "67885ac6",
   "metadata": {},
   "outputs": [
    {
     "data": {
      "text/html": [
       "<div>\n",
       "<style scoped>\n",
       "    .dataframe tbody tr th:only-of-type {\n",
       "        vertical-align: middle;\n",
       "    }\n",
       "\n",
       "    .dataframe tbody tr th {\n",
       "        vertical-align: top;\n",
       "    }\n",
       "\n",
       "    .dataframe thead th {\n",
       "        text-align: right;\n",
       "    }\n",
       "</style>\n",
       "<table border=\"1\" class=\"dataframe\">\n",
       "  <thead>\n",
       "    <tr style=\"text-align: right;\">\n",
       "      <th></th>\n",
       "      <th>age</th>\n",
       "      <th>gender</th>\n",
       "      <th>impluse</th>\n",
       "      <th>pressurehight</th>\n",
       "      <th>pressurelow</th>\n",
       "      <th>glucose</th>\n",
       "      <th>kcm</th>\n",
       "      <th>troponin</th>\n",
       "      <th>class</th>\n",
       "    </tr>\n",
       "  </thead>\n",
       "  <tbody>\n",
       "    <tr>\n",
       "      <th>0</th>\n",
       "      <td>64</td>\n",
       "      <td>1</td>\n",
       "      <td>66</td>\n",
       "      <td>160</td>\n",
       "      <td>83</td>\n",
       "      <td>160.0</td>\n",
       "      <td>1.80</td>\n",
       "      <td>0.012</td>\n",
       "      <td>negative</td>\n",
       "    </tr>\n",
       "    <tr>\n",
       "      <th>1</th>\n",
       "      <td>21</td>\n",
       "      <td>1</td>\n",
       "      <td>94</td>\n",
       "      <td>98</td>\n",
       "      <td>46</td>\n",
       "      <td>296.0</td>\n",
       "      <td>6.75</td>\n",
       "      <td>1.060</td>\n",
       "      <td>positive</td>\n",
       "    </tr>\n",
       "    <tr>\n",
       "      <th>2</th>\n",
       "      <td>55</td>\n",
       "      <td>1</td>\n",
       "      <td>64</td>\n",
       "      <td>160</td>\n",
       "      <td>77</td>\n",
       "      <td>270.0</td>\n",
       "      <td>1.99</td>\n",
       "      <td>0.003</td>\n",
       "      <td>negative</td>\n",
       "    </tr>\n",
       "    <tr>\n",
       "      <th>3</th>\n",
       "      <td>64</td>\n",
       "      <td>1</td>\n",
       "      <td>70</td>\n",
       "      <td>120</td>\n",
       "      <td>55</td>\n",
       "      <td>270.0</td>\n",
       "      <td>13.87</td>\n",
       "      <td>0.122</td>\n",
       "      <td>positive</td>\n",
       "    </tr>\n",
       "    <tr>\n",
       "      <th>4</th>\n",
       "      <td>55</td>\n",
       "      <td>1</td>\n",
       "      <td>64</td>\n",
       "      <td>112</td>\n",
       "      <td>65</td>\n",
       "      <td>300.0</td>\n",
       "      <td>1.08</td>\n",
       "      <td>0.003</td>\n",
       "      <td>negative</td>\n",
       "    </tr>\n",
       "    <tr>\n",
       "      <th>5</th>\n",
       "      <td>58</td>\n",
       "      <td>0</td>\n",
       "      <td>61</td>\n",
       "      <td>112</td>\n",
       "      <td>58</td>\n",
       "      <td>87.0</td>\n",
       "      <td>1.83</td>\n",
       "      <td>0.004</td>\n",
       "      <td>negative</td>\n",
       "    </tr>\n",
       "    <tr>\n",
       "      <th>6</th>\n",
       "      <td>32</td>\n",
       "      <td>0</td>\n",
       "      <td>40</td>\n",
       "      <td>179</td>\n",
       "      <td>68</td>\n",
       "      <td>102.0</td>\n",
       "      <td>0.71</td>\n",
       "      <td>0.003</td>\n",
       "      <td>negative</td>\n",
       "    </tr>\n",
       "    <tr>\n",
       "      <th>7</th>\n",
       "      <td>63</td>\n",
       "      <td>1</td>\n",
       "      <td>60</td>\n",
       "      <td>214</td>\n",
       "      <td>82</td>\n",
       "      <td>87.0</td>\n",
       "      <td>300.00</td>\n",
       "      <td>2.370</td>\n",
       "      <td>positive</td>\n",
       "    </tr>\n",
       "    <tr>\n",
       "      <th>8</th>\n",
       "      <td>44</td>\n",
       "      <td>0</td>\n",
       "      <td>60</td>\n",
       "      <td>154</td>\n",
       "      <td>81</td>\n",
       "      <td>135.0</td>\n",
       "      <td>2.35</td>\n",
       "      <td>0.004</td>\n",
       "      <td>negative</td>\n",
       "    </tr>\n",
       "    <tr>\n",
       "      <th>9</th>\n",
       "      <td>67</td>\n",
       "      <td>1</td>\n",
       "      <td>61</td>\n",
       "      <td>160</td>\n",
       "      <td>95</td>\n",
       "      <td>100.0</td>\n",
       "      <td>2.84</td>\n",
       "      <td>0.011</td>\n",
       "      <td>negative</td>\n",
       "    </tr>\n",
       "  </tbody>\n",
       "</table>\n",
       "</div>"
      ],
      "text/plain": [
       "   age  gender  impluse  pressurehight  pressurelow  glucose     kcm  \\\n",
       "0   64       1       66            160           83    160.0    1.80   \n",
       "1   21       1       94             98           46    296.0    6.75   \n",
       "2   55       1       64            160           77    270.0    1.99   \n",
       "3   64       1       70            120           55    270.0   13.87   \n",
       "4   55       1       64            112           65    300.0    1.08   \n",
       "5   58       0       61            112           58     87.0    1.83   \n",
       "6   32       0       40            179           68    102.0    0.71   \n",
       "7   63       1       60            214           82     87.0  300.00   \n",
       "8   44       0       60            154           81    135.0    2.35   \n",
       "9   67       1       61            160           95    100.0    2.84   \n",
       "\n",
       "   troponin     class  \n",
       "0     0.012  negative  \n",
       "1     1.060  positive  \n",
       "2     0.003  negative  \n",
       "3     0.122  positive  \n",
       "4     0.003  negative  \n",
       "5     0.004  negative  \n",
       "6     0.003  negative  \n",
       "7     2.370  positive  \n",
       "8     0.004  negative  \n",
       "9     0.011  negative  "
      ]
     },
     "execution_count": 58,
     "metadata": {},
     "output_type": "execute_result"
    }
   ],
   "source": [
    "#CHECKING THE DATASET\n",
    "\n",
    "df.head(10)"
   ]
  },
  {
   "cell_type": "code",
   "execution_count": 59,
   "id": "c5975bf5",
   "metadata": {},
   "outputs": [
    {
     "name": "stdout",
     "output_type": "stream",
     "text": [
      "<class 'pandas.core.frame.DataFrame'>\n",
      "RangeIndex: 1319 entries, 0 to 1318\n",
      "Data columns (total 9 columns):\n",
      " #   Column         Non-Null Count  Dtype  \n",
      "---  ------         --------------  -----  \n",
      " 0   age            1319 non-null   int64  \n",
      " 1   gender         1319 non-null   int64  \n",
      " 2   impluse        1319 non-null   int64  \n",
      " 3   pressurehight  1319 non-null   int64  \n",
      " 4   pressurelow    1319 non-null   int64  \n",
      " 5   glucose        1319 non-null   float64\n",
      " 6   kcm            1319 non-null   float64\n",
      " 7   troponin       1319 non-null   float64\n",
      " 8   class          1319 non-null   object \n",
      "dtypes: float64(3), int64(5), object(1)\n",
      "memory usage: 92.9+ KB\n"
     ]
    }
   ],
   "source": [
    "#GETTING THE INFO. OF THE DATASET\n",
    "\n",
    "df.info()"
   ]
  },
  {
   "cell_type": "code",
   "execution_count": 60,
   "id": "e0ccd709",
   "metadata": {},
   "outputs": [
    {
     "data": {
      "text/plain": [
       "age              0\n",
       "gender           0\n",
       "impluse          0\n",
       "pressurehight    0\n",
       "pressurelow      0\n",
       "glucose          0\n",
       "kcm              0\n",
       "troponin         0\n",
       "class            0\n",
       "dtype: int64"
      ]
     },
     "execution_count": 60,
     "metadata": {},
     "output_type": "execute_result"
    }
   ],
   "source": [
    "#CHECKING THE NULL VALUES IN ALL THE COLUMNS\n",
    "\n",
    "df.isnull().sum()"
   ]
  },
  {
   "cell_type": "code",
   "execution_count": 61,
   "id": "6cee8479",
   "metadata": {},
   "outputs": [
    {
     "data": {
      "text/plain": [
       "0"
      ]
     },
     "execution_count": 61,
     "metadata": {},
     "output_type": "execute_result"
    }
   ],
   "source": [
    "#FINDING THE SUM OF OVERALL NULL VALUES\n",
    "\n",
    "df.isnull().sum().sum()"
   ]
  },
  {
   "cell_type": "code",
   "execution_count": 62,
   "id": "14c08613",
   "metadata": {},
   "outputs": [
    {
     "data": {
      "text/plain": [
       "<AxesSubplot:>"
      ]
     },
     "execution_count": 62,
     "metadata": {},
     "output_type": "execute_result"
    },
    {
     "data": {
      "image/png": "[encoded data removed]",
      "text/plain": [
       "<Figure size 1000x800 with 2 Axes>"
      ]
     },
     "metadata": {},
     "output_type": "display_data"
    }
   ],
   "source": [
    "#VISUALISING THE DATAFRAME\n",
    "#USING HEATMAP\n",
    "\n",
    "plt.figure(figsize=(10,8))\n",
    "sns.heatmap(df.isnull())"
   ]
  },
  {
   "cell_type": "markdown",
   "id": "d3064282",
   "metadata": {},
   "source": [
    "THERE ARE NO NULL VALUES IN THE DATAFRAME"
   ]
  },
  {
   "cell_type": "markdown",
   "id": "f9ade88a",
   "metadata": {},
   "source": [
    "# HANDLING OUTLIERS"
   ]
  },
  {
   "cell_type": "code",
   "execution_count": 63,
   "id": "48ea0136",
   "metadata": {},
   "outputs": [
    {
     "data": {
      "text/plain": [
       "Index(['age', 'gender', 'impluse', 'pressurehight', 'pressurelow', 'glucose',\n",
       "       'kcm', 'troponin'],\n",
       "      dtype='object')"
      ]
     },
     "execution_count": 63,
     "metadata": {},
     "output_type": "execute_result"
    }
   ],
   "source": [
    "#GETTING ALL THE NUMERICAL FEATURE\n",
    "\n",
    "num_var = df.select_dtypes(include=['int64','float64']).keys()\n",
    "num_var"
   ]
  },
  {
   "cell_type": "code",
   "execution_count": 64,
   "id": "e41b3150",
   "metadata": {},
   "outputs": [
    {
     "name": "stderr",
     "output_type": "stream",
     "text": [
      "C:\\Users\\Ritika Kumari\\anaconda3\\lib\\site-packages\\seaborn\\_decorators.py:36: FutureWarning: Pass the following variable as a keyword arg: x. From version 0.12, the only valid positional argument will be `data`, and passing other arguments without an explicit keyword will result in an error or misinterpretation.\n",
      "  warnings.warn(\n",
      "C:\\Users\\Ritika Kumari\\anaconda3\\lib\\site-packages\\seaborn\\_decorators.py:36: FutureWarning: Pass the following variable as a keyword arg: x. From version 0.12, the only valid positional argument will be `data`, and passing other arguments without an explicit keyword will result in an error or misinterpretation.\n",
      "  warnings.warn(\n",
      "C:\\Users\\Ritika Kumari\\anaconda3\\lib\\site-packages\\seaborn\\_decorators.py:36: FutureWarning: Pass the following variable as a keyword arg: x. From version 0.12, the only valid positional argument will be `data`, and passing other arguments without an explicit keyword will result in an error or misinterpretation.\n",
      "  warnings.warn(\n",
      "C:\\Users\\Ritika Kumari\\anaconda3\\lib\\site-packages\\seaborn\\_decorators.py:36: FutureWarning: Pass the following variable as a keyword arg: x. From version 0.12, the only valid positional argument will be `data`, and passing other arguments without an explicit keyword will result in an error or misinterpretation.\n",
      "  warnings.warn(\n",
      "C:\\Users\\Ritika Kumari\\anaconda3\\lib\\site-packages\\seaborn\\_decorators.py:36: FutureWarning: Pass the following variable as a keyword arg: x. From version 0.12, the only valid positional argument will be `data`, and passing other arguments without an explicit keyword will result in an error or misinterpretation.\n",
      "  warnings.warn(\n",
      "C:\\Users\\Ritika Kumari\\anaconda3\\lib\\site-packages\\seaborn\\_decorators.py:36: FutureWarning: Pass the following variable as a keyword arg: x. From version 0.12, the only valid positional argument will be `data`, and passing other arguments without an explicit keyword will result in an error or misinterpretation.\n",
      "  warnings.warn(\n",
      "C:\\Users\\Ritika Kumari\\anaconda3\\lib\\site-packages\\seaborn\\_decorators.py:36: FutureWarning: Pass the following variable as a keyword arg: x. From version 0.12, the only valid positional argument will be `data`, and passing other arguments without an explicit keyword will result in an error or misinterpretation.\n",
      "  warnings.warn(\n",
      "C:\\Users\\Ritika Kumari\\anaconda3\\lib\\site-packages\\seaborn\\_decorators.py:36: FutureWarning: Pass the following variable as a keyword arg: x. From version 0.12, the only valid positional argument will be `data`, and passing other arguments without an explicit keyword will result in an error or misinterpretation.\n",
      "  warnings.warn(\n"
     ]
    },
    {
     "data": {
      "image/png": "[encoded data removed]",
      "text/plain": [
       "<Figure size 2000x2000 with 8 Axes>"
      ]
     },
     "metadata": {},
     "output_type": "display_data"
    }
   ],
   "source": [
    "#PLOTTING BOXPLOT TO CHECK OUTLIERS IN THE DATAFRAME\n",
    "\n",
    "num_var = ['age', 'gender', 'impluse', 'pressurehight', 'pressurelow', 'glucose',\n",
    "       'kcm', 'troponin']\n",
    "\n",
    "\n",
    "plt.figure(figsize=(20,20))\n",
    "for i , var in enumerate(num_var):\n",
    "    plt.subplot(4,2,i+1)\n",
    "    sns.boxplot(df[var])\n",
    "    plt.show"
   ]
  },
  {
   "cell_type": "code",
   "execution_count": 65,
   "id": "dec0f025",
   "metadata": {},
   "outputs": [],
   "source": [
    "#LISTING THE FEAURES HAVING OUTLIERS\n",
    "\n",
    "out_lier = ['age','impluse','pressurehight','pressurelow','glucose','kcm','troponin']"
   ]
  },
  {
   "cell_type": "markdown",
   "id": "da0c3b8d",
   "metadata": {},
   "source": [
    "# IQR METHOD TO HANDLE OUTLIERS"
   ]
  },
  {
   "cell_type": "code",
   "execution_count": 66,
   "id": "9b2cdcca",
   "metadata": {},
   "outputs": [],
   "source": [
    "#SORTING THE DATAFRAME\n",
    "\n",
    "\n",
    "df['age'] = sorted(df['age'])\n",
    "df['impluse'] = sorted(df['impluse'])\n",
    "df['pressurehight'] = sorted(df['pressurehight'])\n",
    "df['pressurelow'] = sorted(df['pressurelow'])\n",
    "df['glucose'] = sorted(df['glucose'])\n",
    "df['kcm'] = sorted(df['kcm'])\n",
    "df['troponin'] = sorted(df['troponin'])\n"
   ]
  },
  {
   "cell_type": "code",
   "execution_count": 67,
   "id": "9a676771",
   "metadata": {},
   "outputs": [
    {
     "name": "stdout",
     "output_type": "stream",
     "text": [
      "--------------------------------------------------\n",
      "25th percentile(q1) value of feature  age : 47.0\n",
      "75th percentile(q3) value of feature  age : 65.0\n",
      "IQR of feature  age : 18.0\n",
      "--------------------------------------------------\n",
      "--------------------------------------------------\n",
      "25th percentile(q1) value of feature  impluse : 64.0\n",
      "75th percentile(q3) value of feature  impluse : 85.0\n",
      "IQR of feature  impluse : 21.0\n",
      "--------------------------------------------------\n",
      "--------------------------------------------------\n",
      "25th percentile(q1) value of feature  pressurehight : 110.0\n",
      "75th percentile(q3) value of feature  pressurehight : 143.0\n",
      "IQR of feature  pressurehight : 33.0\n",
      "--------------------------------------------------\n",
      "--------------------------------------------------\n",
      "25th percentile(q1) value of feature  pressurelow : 62.0\n",
      "75th percentile(q3) value of feature  pressurelow : 81.0\n",
      "IQR of feature  pressurelow : 19.0\n",
      "--------------------------------------------------\n",
      "--------------------------------------------------\n",
      "25th percentile(q1) value of feature  glucose : 98.0\n",
      "75th percentile(q3) value of feature  glucose : 169.5\n",
      "IQR of feature  glucose : 71.5\n",
      "--------------------------------------------------\n",
      "--------------------------------------------------\n",
      "25th percentile(q1) value of feature  kcm : 1.6549999999999998\n",
      "75th percentile(q3) value of feature  kcm : 5.805\n",
      "IQR of feature  kcm : 4.15\n",
      "--------------------------------------------------\n",
      "--------------------------------------------------\n",
      "25th percentile(q1) value of feature  troponin : 0.006\n",
      "75th percentile(q3) value of feature  troponin : 0.08549999999999999\n",
      "IQR of feature  troponin : 0.07949999999999999\n",
      "--------------------------------------------------\n"
     ]
    }
   ],
   "source": [
    "#CALCULATING 1ST , 3RD QUANTILE AND INTERQUANTILE RANGE AND\n",
    "\n",
    "out_lier = ['age','impluse','pressurehight','pressurelow','glucose','kcm','troponin']\n",
    "\n",
    "for i, var in enumerate(out_lier):\n",
    "    q1 = df[var].quantile(0.25)\n",
    "    q3 = df[var].quantile(0.75)\n",
    "    iqr = q3 - q1\n",
    "   \n",
    "    print(\"--------------------------------------------------\")\n",
    "    print(\"25th percentile(q1) value of feature \", var,\":\" ,q1 )\n",
    "    print(\"75th percentile(q3) value of feature \", var,\":\" ,q3 )\n",
    "    print(\"IQR of feature \", var,\":\" ,iqr )\n",
    "    print(\"--------------------------------------------------\") \n"
   ]
  },
  {
   "cell_type": "code",
   "execution_count": 68,
   "id": "37f76b72",
   "metadata": {},
   "outputs": [
    {
     "name": "stdout",
     "output_type": "stream",
     "text": [
      "upper limit (  age  )  :  92.0\n",
      "lower limit (  age  )  :  20.0\n",
      "--------------------------------------------------------\n",
      "--------------------------------------------------------\n",
      "upper limit (  impluse  )  :  116.5\n",
      "lower limit (  impluse  )  :  32.5\n",
      "--------------------------------------------------------\n",
      "--------------------------------------------------------\n",
      "upper limit (  pressurehight  )  :  192.5\n",
      "lower limit (  pressurehight  )  :  60.5\n",
      "--------------------------------------------------------\n",
      "--------------------------------------------------------\n",
      "upper limit (  pressurelow  )  :  109.5\n",
      "lower limit (  pressurelow  )  :  33.5\n",
      "--------------------------------------------------------\n",
      "--------------------------------------------------------\n",
      "upper limit (  glucose  )  :  276.75\n",
      "lower limit (  glucose  )  :  -9.25\n",
      "--------------------------------------------------------\n",
      "--------------------------------------------------------\n",
      "upper limit (  kcm  )  :  12.030000000000001\n",
      "lower limit (  kcm  )  :  -4.57\n",
      "--------------------------------------------------------\n",
      "--------------------------------------------------------\n",
      "upper limit (  troponin  )  :  0.20475\n",
      "lower limit (  troponin  )  :  -0.11324999999999998\n",
      "--------------------------------------------------------\n",
      "--------------------------------------------------------\n"
     ]
    }
   ],
   "source": [
    "#CALCULATING UPPER AND LOWER LIMITS \n",
    "\n",
    "out_lier = ['age','impluse','pressurehight','pressurelow','glucose','kcm','troponin']\n",
    "\n",
    "def limits(feature,q1,q3,iqr):\n",
    "    upper_limit = q3 + (1.5 * iqr)\n",
    "    lower_limit = q1 - (1.5 * iqr)\n",
    "    print(\"upper limit ( \", feature, \" )\" , \" : \", upper_limit)\n",
    "    print(\"lower limit ( \", feature, \" )\" , \" : \", lower_limit)\n",
    "    print(\"--------------------------------------------------------\")\n",
    "    print(\"--------------------------------------------------------\")\n",
    "    \n",
    "\n",
    "limits(\"age\",  47.0,65.0, 18.0)\n",
    "limits(\"impluse\", 64.0, 85.0,21.0)\n",
    "limits(\"pressurehight\", 110.0, 143.0, 33.0)\n",
    "limits(\"pressurelow\" ,62.0, 81.0, 19.0 )\n",
    "limits(\"glucose\",  98.0,169.5,71.5)\n",
    "limits(\"kcm\",1.6549999999999998,5.805,4.15)\n",
    "limits(\"troponin\",  0.006,0.08549999999999999,0.07949999999999999)\n",
    "\n",
    "\n"
   ]
  },
  {
   "cell_type": "markdown",
   "id": "cd7a77d7",
   "metadata": {},
   "source": [
    "TRIMMING"
   ]
  },
  {
   "cell_type": "code",
   "execution_count": 69,
   "id": "68e65f2d",
   "metadata": {},
   "outputs": [],
   "source": [
    "#CREATING A NEW DATAFRAME HAVING THE VALUES OF THE ROWS WITHIN THE CALCULATED LIMITS.\n",
    "\n",
    "df1 =df.loc[(df['age'] <=  92.0) & (df['age'] >= 20.0)]\n",
    "df1 =df1.loc[(df1['impluse'] <= 116.5 ) & (df1['impluse'] >= 32.5)]\n",
    "df1 =df1.loc[(df1['pressurehight'] <= 192.5) & (df1['pressurehight'] >= 60.5)]\n",
    "df1 =df1.loc[(df1['pressurelow'] <= 109.5) & (df1['pressurelow'] >= 33.5)]\n",
    "df1 =df1.loc[(df1['glucose'] <= 276.75) & (df1['glucose'] >= -9.25)]\n",
    "df1 =df1.loc[(df1['kcm'] <= 12.030000000000001) & (df1['kcm'] >= -4.57)]\n",
    "df1 =df1.loc[(df['troponin'] <=   0.20475) & (df1['troponin'] >=  -0.11324999999999998)]"
   ]
  },
  {
   "cell_type": "code",
   "execution_count": 70,
   "id": "006f1027",
   "metadata": {},
   "outputs": [
    {
     "data": {
      "text/plain": [
       "(1319, 1058)"
      ]
     },
     "execution_count": 70,
     "metadata": {},
     "output_type": "execute_result"
    }
   ],
   "source": [
    "#CHECKING THE LENGTH OF THE ORIGIONAL AND THE NEW DATAFRAME\n",
    "len(df) , len(df1)"
   ]
  },
  {
   "cell_type": "code",
   "execution_count": 71,
   "id": "c637ed90",
   "metadata": {},
   "outputs": [
    {
     "data": {
      "text/plain": [
       "261"
      ]
     },
     "execution_count": 71,
     "metadata": {},
     "output_type": "execute_result"
    }
   ],
   "source": [
    "#GETTING THE NUMBER OF ROWS HAVING OUTLIERS\n",
    "len(df) - len(df1)"
   ]
  },
  {
   "cell_type": "code",
   "execution_count": 72,
   "id": "d5de525c",
   "metadata": {},
   "outputs": [
    {
     "data": {
      "text/plain": [
       "19.787717968157693"
      ]
     },
     "execution_count": 72,
     "metadata": {},
     "output_type": "execute_result"
    }
   ],
   "source": [
    "#FINDING THE PERCENTAGE \n",
    "(len(df)-len(df1))/1319*100"
   ]
  },
  {
   "cell_type": "code",
   "execution_count": 73,
   "id": "90c78321",
   "metadata": {},
   "outputs": [
    {
     "name": "stderr",
     "output_type": "stream",
     "text": [
      "C:\\Users\\Ritika Kumari\\anaconda3\\lib\\site-packages\\seaborn\\_decorators.py:36: FutureWarning: Pass the following variable as a keyword arg: x. From version 0.12, the only valid positional argument will be `data`, and passing other arguments without an explicit keyword will result in an error or misinterpretation.\n",
      "  warnings.warn(\n",
      "C:\\Users\\Ritika Kumari\\anaconda3\\lib\\site-packages\\seaborn\\_decorators.py:36: FutureWarning: Pass the following variable as a keyword arg: x. From version 0.12, the only valid positional argument will be `data`, and passing other arguments without an explicit keyword will result in an error or misinterpretation.\n",
      "  warnings.warn(\n",
      "C:\\Users\\Ritika Kumari\\anaconda3\\lib\\site-packages\\seaborn\\_decorators.py:36: FutureWarning: Pass the following variable as a keyword arg: x. From version 0.12, the only valid positional argument will be `data`, and passing other arguments without an explicit keyword will result in an error or misinterpretation.\n",
      "  warnings.warn(\n",
      "C:\\Users\\Ritika Kumari\\anaconda3\\lib\\site-packages\\seaborn\\_decorators.py:36: FutureWarning: Pass the following variable as a keyword arg: x. From version 0.12, the only valid positional argument will be `data`, and passing other arguments without an explicit keyword will result in an error or misinterpretation.\n",
      "  warnings.warn(\n",
      "C:\\Users\\Ritika Kumari\\anaconda3\\lib\\site-packages\\seaborn\\_decorators.py:36: FutureWarning: Pass the following variable as a keyword arg: x. From version 0.12, the only valid positional argument will be `data`, and passing other arguments without an explicit keyword will result in an error or misinterpretation.\n",
      "  warnings.warn(\n",
      "C:\\Users\\Ritika Kumari\\anaconda3\\lib\\site-packages\\seaborn\\_decorators.py:36: FutureWarning: Pass the following variable as a keyword arg: x. From version 0.12, the only valid positional argument will be `data`, and passing other arguments without an explicit keyword will result in an error or misinterpretation.\n",
      "  warnings.warn(\n",
      "C:\\Users\\Ritika Kumari\\anaconda3\\lib\\site-packages\\seaborn\\_decorators.py:36: FutureWarning: Pass the following variable as a keyword arg: x. From version 0.12, the only valid positional argument will be `data`, and passing other arguments without an explicit keyword will result in an error or misinterpretation.\n",
      "  warnings.warn(\n"
     ]
    },
    {
     "data": {
      "image/png": "[encoded data removed]",
      "text/plain": [
       "<Figure size 2000x2000 with 7 Axes>"
      ]
     },
     "metadata": {},
     "output_type": "display_data"
    }
   ],
   "source": [
    "#PLOTTING BOXPLOT TO CHECK OUTLIERS IN THE DATAFRAME\n",
    "\n",
    "out_lier = ['age','impluse','pressurehight','pressurelow','glucose','kcm','troponin']\n",
    "\n",
    "\n",
    "\n",
    "\n",
    "plt.figure(figsize=(20,20))\n",
    "for i , var in enumerate(out_lier):\n",
    "    plt.subplot(4,2,i+1)\n",
    "    sns.boxplot(df1[var])\n",
    "    "
   ]
  },
  {
   "cell_type": "markdown",
   "id": "c63a765a",
   "metadata": {},
   "source": [
    "TRIMMING METHOD HAS BEEN USED BUT WE CAN SEE THAT NEARLY 20% OF THE ROWS IS LOST AND ALSO OUTLIERS COULD NOT GET HANDLED EFFECTIVELY(STILL MANY OUTLIERS CAN BE SEEN IN THE BOXPLOT)."
   ]
  },
  {
   "cell_type": "markdown",
   "id": "15c38ef1",
   "metadata": {},
   "source": [
    "THEREFORE WE WILL USE CAPPING."
   ]
  },
  {
   "cell_type": "code",
   "execution_count": 22,
   "id": "3121304c",
   "metadata": {},
   "outputs": [],
   "source": [
    "#CAPPING - changing the outliers to upper and lower limits\n",
    "\n",
    "\n",
    "out_lier = ['age','impluse','pressurehight','pressurelow','glucose','kcm','troponin']\n",
    "\n",
    "def cap_out_lier(var,upper_limit,lower_limit):\n",
    "    df[var]=np.where(\n",
    "    df[var]>upper_limit,\n",
    "    upper_limit,\n",
    "    np.where(\n",
    "    df[var]<lower_limit,\n",
    "    lower_limit,\n",
    "    df[var]))\n",
    "    \n",
    "\n",
    "\n",
    "    \n",
    "cap_out_lier(\"age\",  92.0,20.0)\n",
    "cap_out_lier(\"impluse\", 116.5, 32.5)\n",
    "cap_out_lier(\"pressurehight\", 192.5, 60.5)\n",
    "cap_out_lier(\"pressurelow\" ,109.5, 33.5 )\n",
    "cap_out_lier(\"glucose\",  276.75,-9.25)\n",
    "cap_out_lier(\"kcm\",12.030000000000001,-4.57)\n",
    "cap_out_lier(\"troponin\",   0.20475,-0.11324999999999998)"
   ]
  },
  {
   "cell_type": "code",
   "execution_count": 23,
   "id": "7a91f04f",
   "metadata": {},
   "outputs": [
    {
     "name": "stderr",
     "output_type": "stream",
     "text": [
      "C:\\Users\\Ritika Kumari\\anaconda3\\lib\\site-packages\\seaborn\\_decorators.py:36: FutureWarning: Pass the following variable as a keyword arg: x. From version 0.12, the only valid positional argument will be `data`, and passing other arguments without an explicit keyword will result in an error or misinterpretation.\n",
      "  warnings.warn(\n",
      "C:\\Users\\Ritika Kumari\\anaconda3\\lib\\site-packages\\seaborn\\_decorators.py:36: FutureWarning: Pass the following variable as a keyword arg: x. From version 0.12, the only valid positional argument will be `data`, and passing other arguments without an explicit keyword will result in an error or misinterpretation.\n",
      "  warnings.warn(\n",
      "C:\\Users\\Ritika Kumari\\anaconda3\\lib\\site-packages\\seaborn\\_decorators.py:36: FutureWarning: Pass the following variable as a keyword arg: x. From version 0.12, the only valid positional argument will be `data`, and passing other arguments without an explicit keyword will result in an error or misinterpretation.\n",
      "  warnings.warn(\n",
      "C:\\Users\\Ritika Kumari\\anaconda3\\lib\\site-packages\\seaborn\\_decorators.py:36: FutureWarning: Pass the following variable as a keyword arg: x. From version 0.12, the only valid positional argument will be `data`, and passing other arguments without an explicit keyword will result in an error or misinterpretation.\n",
      "  warnings.warn(\n",
      "C:\\Users\\Ritika Kumari\\anaconda3\\lib\\site-packages\\seaborn\\_decorators.py:36: FutureWarning: Pass the following variable as a keyword arg: x. From version 0.12, the only valid positional argument will be `data`, and passing other arguments without an explicit keyword will result in an error or misinterpretation.\n",
      "  warnings.warn(\n",
      "C:\\Users\\Ritika Kumari\\anaconda3\\lib\\site-packages\\seaborn\\_decorators.py:36: FutureWarning: Pass the following variable as a keyword arg: x. From version 0.12, the only valid positional argument will be `data`, and passing other arguments without an explicit keyword will result in an error or misinterpretation.\n",
      "  warnings.warn(\n",
      "C:\\Users\\Ritika Kumari\\anaconda3\\lib\\site-packages\\seaborn\\_decorators.py:36: FutureWarning: Pass the following variable as a keyword arg: x. From version 0.12, the only valid positional argument will be `data`, and passing other arguments without an explicit keyword will result in an error or misinterpretation.\n",
      "  warnings.warn(\n"
     ]
    },
    {
     "data": {
      "image/png": "[encoded data removed]",
      "text/plain": [
       "<Figure size 2000x2000 with 7 Axes>"
      ]
     },
     "metadata": {},
     "output_type": "display_data"
    }
   ],
   "source": [
    "#PLOTTING BOXPLOT TO CHECK OUTLIERS IN THE DATAFRAME\n",
    "\n",
    "out_lier = ['age','impluse','pressurehight','pressurelow','glucose','kcm','troponin']\n",
    "\n",
    "\n",
    "\n",
    "\n",
    "plt.figure(figsize=(20,20))\n",
    "for i , var in enumerate(out_lier):\n",
    "    plt.subplot(4,2,i+1)\n",
    "    sns.boxplot(df[var])\n",
    "    "
   ]
  },
  {
   "cell_type": "markdown",
   "id": "ec4f3a8e",
   "metadata": {},
   "source": [
    "WE  HAVE  SUCCESSFULLY  HANDLED  THE  OUTLIERS!!"
   ]
  },
  {
   "cell_type": "markdown",
   "id": "6095ed7a",
   "metadata": {},
   "source": [
    "# ENCODING (CATEGORICAL FEATURE -->  NUMERICAL FEATURE)"
   ]
  },
  {
   "cell_type": "code",
   "execution_count": 24,
   "id": "7041603a",
   "metadata": {},
   "outputs": [
    {
     "data": {
      "text/plain": [
       "Index(['class'], dtype='object')"
      ]
     },
     "execution_count": 24,
     "metadata": {},
     "output_type": "execute_result"
    }
   ],
   "source": [
    "#LISTING OUT THE CATEGORICAL FEATURES\n",
    "\n",
    "cat_var = df.select_dtypes(include=['O']).keys()\n",
    "cat_var"
   ]
  },
  {
   "cell_type": "code",
   "execution_count": 25,
   "id": "832a5e3e",
   "metadata": {},
   "outputs": [
    {
     "data": {
      "text/html": [
       "<div>\n",
       "<style scoped>\n",
       "    .dataframe tbody tr th:only-of-type {\n",
       "        vertical-align: middle;\n",
       "    }\n",
       "\n",
       "    .dataframe tbody tr th {\n",
       "        vertical-align: top;\n",
       "    }\n",
       "\n",
       "    .dataframe thead th {\n",
       "        text-align: right;\n",
       "    }\n",
       "</style>\n",
       "<table border=\"1\" class=\"dataframe\">\n",
       "  <thead>\n",
       "    <tr style=\"text-align: right;\">\n",
       "      <th></th>\n",
       "      <th>age</th>\n",
       "      <th>gender</th>\n",
       "      <th>impluse</th>\n",
       "      <th>pressurehight</th>\n",
       "      <th>pressurelow</th>\n",
       "      <th>glucose</th>\n",
       "      <th>kcm</th>\n",
       "      <th>troponin</th>\n",
       "      <th>attack_negative</th>\n",
       "      <th>attack_positive</th>\n",
       "    </tr>\n",
       "  </thead>\n",
       "  <tbody>\n",
       "    <tr>\n",
       "      <th>0</th>\n",
       "      <td>20.0</td>\n",
       "      <td>1</td>\n",
       "      <td>32.5</td>\n",
       "      <td>60.5</td>\n",
       "      <td>38.0</td>\n",
       "      <td>35.0</td>\n",
       "      <td>0.321</td>\n",
       "      <td>0.001</td>\n",
       "      <td>1</td>\n",
       "      <td>0</td>\n",
       "    </tr>\n",
       "    <tr>\n",
       "      <th>1</th>\n",
       "      <td>20.0</td>\n",
       "      <td>1</td>\n",
       "      <td>32.5</td>\n",
       "      <td>65.0</td>\n",
       "      <td>40.0</td>\n",
       "      <td>50.0</td>\n",
       "      <td>0.345</td>\n",
       "      <td>0.002</td>\n",
       "      <td>0</td>\n",
       "      <td>1</td>\n",
       "    </tr>\n",
       "    <tr>\n",
       "      <th>2</th>\n",
       "      <td>20.0</td>\n",
       "      <td>1</td>\n",
       "      <td>36.0</td>\n",
       "      <td>65.0</td>\n",
       "      <td>40.0</td>\n",
       "      <td>50.0</td>\n",
       "      <td>0.353</td>\n",
       "      <td>0.002</td>\n",
       "      <td>1</td>\n",
       "      <td>0</td>\n",
       "    </tr>\n",
       "    <tr>\n",
       "      <th>3</th>\n",
       "      <td>20.0</td>\n",
       "      <td>1</td>\n",
       "      <td>40.0</td>\n",
       "      <td>65.0</td>\n",
       "      <td>40.0</td>\n",
       "      <td>60.0</td>\n",
       "      <td>0.452</td>\n",
       "      <td>0.002</td>\n",
       "      <td>0</td>\n",
       "      <td>1</td>\n",
       "    </tr>\n",
       "    <tr>\n",
       "      <th>4</th>\n",
       "      <td>20.0</td>\n",
       "      <td>1</td>\n",
       "      <td>40.0</td>\n",
       "      <td>67.0</td>\n",
       "      <td>41.0</td>\n",
       "      <td>61.0</td>\n",
       "      <td>0.457</td>\n",
       "      <td>0.003</td>\n",
       "      <td>1</td>\n",
       "      <td>0</td>\n",
       "    </tr>\n",
       "  </tbody>\n",
       "</table>\n",
       "</div>"
      ],
      "text/plain": [
       "    age  gender  impluse  pressurehight  pressurelow  glucose    kcm  \\\n",
       "0  20.0       1     32.5           60.5         38.0     35.0  0.321   \n",
       "1  20.0       1     32.5           65.0         40.0     50.0  0.345   \n",
       "2  20.0       1     36.0           65.0         40.0     50.0  0.353   \n",
       "3  20.0       1     40.0           65.0         40.0     60.0  0.452   \n",
       "4  20.0       1     40.0           67.0         41.0     61.0  0.457   \n",
       "\n",
       "   troponin  attack_negative  attack_positive  \n",
       "0     0.001                1                0  \n",
       "1     0.002                0                1  \n",
       "2     0.002                1                0  \n",
       "3     0.002                0                1  \n",
       "4     0.003                1                0  "
      ]
     },
     "execution_count": 25,
     "metadata": {},
     "output_type": "execute_result"
    }
   ],
   "source": [
    "#ONE HOT ENCODING\n",
    "#GETTING THE DUMMY VARIABLES\n",
    "\n",
    "new_df = pd.get_dummies(df,prefix = 'attack')\n",
    "new_df.head()"
   ]
  },
  {
   "cell_type": "code",
   "execution_count": 26,
   "id": "a0823511",
   "metadata": {},
   "outputs": [
    {
     "data": {
      "text/html": [
       "<div>\n",
       "<style scoped>\n",
       "    .dataframe tbody tr th:only-of-type {\n",
       "        vertical-align: middle;\n",
       "    }\n",
       "\n",
       "    .dataframe tbody tr th {\n",
       "        vertical-align: top;\n",
       "    }\n",
       "\n",
       "    .dataframe thead th {\n",
       "        text-align: right;\n",
       "    }\n",
       "</style>\n",
       "<table border=\"1\" class=\"dataframe\">\n",
       "  <thead>\n",
       "    <tr style=\"text-align: right;\">\n",
       "      <th></th>\n",
       "      <th>age</th>\n",
       "      <th>gender</th>\n",
       "      <th>impluse</th>\n",
       "      <th>pressurehight</th>\n",
       "      <th>pressurelow</th>\n",
       "      <th>glucose</th>\n",
       "      <th>kcm</th>\n",
       "      <th>troponin</th>\n",
       "      <th>attack_positive</th>\n",
       "    </tr>\n",
       "  </thead>\n",
       "  <tbody>\n",
       "    <tr>\n",
       "      <th>0</th>\n",
       "      <td>20.0</td>\n",
       "      <td>1</td>\n",
       "      <td>32.5</td>\n",
       "      <td>60.5</td>\n",
       "      <td>38.0</td>\n",
       "      <td>35.0</td>\n",
       "      <td>0.321</td>\n",
       "      <td>0.001</td>\n",
       "      <td>0</td>\n",
       "    </tr>\n",
       "    <tr>\n",
       "      <th>1</th>\n",
       "      <td>20.0</td>\n",
       "      <td>1</td>\n",
       "      <td>32.5</td>\n",
       "      <td>65.0</td>\n",
       "      <td>40.0</td>\n",
       "      <td>50.0</td>\n",
       "      <td>0.345</td>\n",
       "      <td>0.002</td>\n",
       "      <td>1</td>\n",
       "    </tr>\n",
       "    <tr>\n",
       "      <th>2</th>\n",
       "      <td>20.0</td>\n",
       "      <td>1</td>\n",
       "      <td>36.0</td>\n",
       "      <td>65.0</td>\n",
       "      <td>40.0</td>\n",
       "      <td>50.0</td>\n",
       "      <td>0.353</td>\n",
       "      <td>0.002</td>\n",
       "      <td>0</td>\n",
       "    </tr>\n",
       "    <tr>\n",
       "      <th>3</th>\n",
       "      <td>20.0</td>\n",
       "      <td>1</td>\n",
       "      <td>40.0</td>\n",
       "      <td>65.0</td>\n",
       "      <td>40.0</td>\n",
       "      <td>60.0</td>\n",
       "      <td>0.452</td>\n",
       "      <td>0.002</td>\n",
       "      <td>1</td>\n",
       "    </tr>\n",
       "    <tr>\n",
       "      <th>4</th>\n",
       "      <td>20.0</td>\n",
       "      <td>1</td>\n",
       "      <td>40.0</td>\n",
       "      <td>67.0</td>\n",
       "      <td>41.0</td>\n",
       "      <td>61.0</td>\n",
       "      <td>0.457</td>\n",
       "      <td>0.003</td>\n",
       "      <td>0</td>\n",
       "    </tr>\n",
       "  </tbody>\n",
       "</table>\n",
       "</div>"
      ],
      "text/plain": [
       "    age  gender  impluse  pressurehight  pressurelow  glucose    kcm  \\\n",
       "0  20.0       1     32.5           60.5         38.0     35.0  0.321   \n",
       "1  20.0       1     32.5           65.0         40.0     50.0  0.345   \n",
       "2  20.0       1     36.0           65.0         40.0     50.0  0.353   \n",
       "3  20.0       1     40.0           65.0         40.0     60.0  0.452   \n",
       "4  20.0       1     40.0           67.0         41.0     61.0  0.457   \n",
       "\n",
       "   troponin  attack_positive  \n",
       "0     0.001                0  \n",
       "1     0.002                1  \n",
       "2     0.002                0  \n",
       "3     0.002                1  \n",
       "4     0.003                0  "
      ]
     },
     "execution_count": 26,
     "metadata": {},
     "output_type": "execute_result"
    }
   ],
   "source": [
    "#GETTING (K-1) DUMMY VARIABLES\n",
    "\n",
    "new_df = pd.get_dummies(df,prefix = 'attack',drop_first = True)\n",
    "new_df.head()"
   ]
  },
  {
   "cell_type": "markdown",
   "id": "2f39da53",
   "metadata": {},
   "source": [
    "OUR TARGET FEATURE IS : attack_positive"
   ]
  },
  {
   "cell_type": "code",
   "execution_count": 27,
   "id": "bf77d36c",
   "metadata": {},
   "outputs": [
    {
     "data": {
      "text/plain": [
       "age                float64\n",
       "gender               int64\n",
       "impluse            float64\n",
       "pressurehight      float64\n",
       "pressurelow        float64\n",
       "glucose            float64\n",
       "kcm                float64\n",
       "troponin           float64\n",
       "attack_positive      uint8\n",
       "dtype: object"
      ]
     },
     "execution_count": 27,
     "metadata": {},
     "output_type": "execute_result"
    }
   ],
   "source": [
    "#CHECKING THE DATATYPE OF THE DATAFRAME\n",
    "\n",
    "new_df.dtypes"
   ]
  },
  {
   "cell_type": "markdown",
   "id": "2bb670c5",
   "metadata": {},
   "source": [
    "WE HAVE SUCCESSFULLY ENCODED THE  \"class\" FEATURE!!"
   ]
  },
  {
   "cell_type": "markdown",
   "id": "7e96caa5",
   "metadata": {},
   "source": [
    "# FEATURE SELECTION"
   ]
  },
  {
   "cell_type": "code",
   "execution_count": 28,
   "id": "9bcfcf79",
   "metadata": {},
   "outputs": [
    {
     "data": {
      "text/html": [
       "<div>\n",
       "<style scoped>\n",
       "    .dataframe tbody tr th:only-of-type {\n",
       "        vertical-align: middle;\n",
       "    }\n",
       "\n",
       "    .dataframe tbody tr th {\n",
       "        vertical-align: top;\n",
       "    }\n",
       "\n",
       "    .dataframe thead th {\n",
       "        text-align: right;\n",
       "    }\n",
       "</style>\n",
       "<table border=\"1\" class=\"dataframe\">\n",
       "  <thead>\n",
       "    <tr style=\"text-align: right;\">\n",
       "      <th></th>\n",
       "      <th>age</th>\n",
       "      <th>gender</th>\n",
       "      <th>impluse</th>\n",
       "      <th>pressurehight</th>\n",
       "      <th>pressurelow</th>\n",
       "      <th>glucose</th>\n",
       "      <th>kcm</th>\n",
       "      <th>troponin</th>\n",
       "      <th>attack_positive</th>\n",
       "    </tr>\n",
       "  </thead>\n",
       "  <tbody>\n",
       "    <tr>\n",
       "      <th>age</th>\n",
       "      <td>1.000000</td>\n",
       "      <td>-0.014286</td>\n",
       "      <td>0.964042</td>\n",
       "      <td>0.978034</td>\n",
       "      <td>0.987094</td>\n",
       "      <td>0.886365</td>\n",
       "      <td>0.854613</td>\n",
       "      <td>0.778534</td>\n",
       "      <td>0.036139</td>\n",
       "    </tr>\n",
       "    <tr>\n",
       "      <th>gender</th>\n",
       "      <td>-0.014286</td>\n",
       "      <td>1.000000</td>\n",
       "      <td>-0.017255</td>\n",
       "      <td>-0.017869</td>\n",
       "      <td>-0.013708</td>\n",
       "      <td>-0.017121</td>\n",
       "      <td>-0.024670</td>\n",
       "      <td>-0.029766</td>\n",
       "      <td>0.094432</td>\n",
       "    </tr>\n",
       "    <tr>\n",
       "      <th>impluse</th>\n",
       "      <td>0.964042</td>\n",
       "      <td>-0.017255</td>\n",
       "      <td>1.000000</td>\n",
       "      <td>0.994062</td>\n",
       "      <td>0.991181</td>\n",
       "      <td>0.956919</td>\n",
       "      <td>0.920836</td>\n",
       "      <td>0.862199</td>\n",
       "      <td>0.033013</td>\n",
       "    </tr>\n",
       "    <tr>\n",
       "      <th>pressurehight</th>\n",
       "      <td>0.978034</td>\n",
       "      <td>-0.017869</td>\n",
       "      <td>0.994062</td>\n",
       "      <td>1.000000</td>\n",
       "      <td>0.995566</td>\n",
       "      <td>0.952714</td>\n",
       "      <td>0.918453</td>\n",
       "      <td>0.858754</td>\n",
       "      <td>0.031234</td>\n",
       "    </tr>\n",
       "    <tr>\n",
       "      <th>pressurelow</th>\n",
       "      <td>0.987094</td>\n",
       "      <td>-0.013708</td>\n",
       "      <td>0.991181</td>\n",
       "      <td>0.995566</td>\n",
       "      <td>1.000000</td>\n",
       "      <td>0.937269</td>\n",
       "      <td>0.902696</td>\n",
       "      <td>0.831387</td>\n",
       "      <td>0.033080</td>\n",
       "    </tr>\n",
       "    <tr>\n",
       "      <th>glucose</th>\n",
       "      <td>0.886365</td>\n",
       "      <td>-0.017121</td>\n",
       "      <td>0.956919</td>\n",
       "      <td>0.952714</td>\n",
       "      <td>0.937269</td>\n",
       "      <td>1.000000</td>\n",
       "      <td>0.982483</td>\n",
       "      <td>0.950389</td>\n",
       "      <td>0.021148</td>\n",
       "    </tr>\n",
       "    <tr>\n",
       "      <th>kcm</th>\n",
       "      <td>0.854613</td>\n",
       "      <td>-0.024670</td>\n",
       "      <td>0.920836</td>\n",
       "      <td>0.918453</td>\n",
       "      <td>0.902696</td>\n",
       "      <td>0.982483</td>\n",
       "      <td>1.000000</td>\n",
       "      <td>0.976176</td>\n",
       "      <td>0.013657</td>\n",
       "    </tr>\n",
       "    <tr>\n",
       "      <th>troponin</th>\n",
       "      <td>0.778534</td>\n",
       "      <td>-0.029766</td>\n",
       "      <td>0.862199</td>\n",
       "      <td>0.858754</td>\n",
       "      <td>0.831387</td>\n",
       "      <td>0.950389</td>\n",
       "      <td>0.976176</td>\n",
       "      <td>1.000000</td>\n",
       "      <td>0.009094</td>\n",
       "    </tr>\n",
       "    <tr>\n",
       "      <th>attack_positive</th>\n",
       "      <td>0.036139</td>\n",
       "      <td>0.094432</td>\n",
       "      <td>0.033013</td>\n",
       "      <td>0.031234</td>\n",
       "      <td>0.033080</td>\n",
       "      <td>0.021148</td>\n",
       "      <td>0.013657</td>\n",
       "      <td>0.009094</td>\n",
       "      <td>1.000000</td>\n",
       "    </tr>\n",
       "  </tbody>\n",
       "</table>\n",
       "</div>"
      ],
      "text/plain": [
       "                      age    gender   impluse  pressurehight  pressurelow  \\\n",
       "age              1.000000 -0.014286  0.964042       0.978034     0.987094   \n",
       "gender          -0.014286  1.000000 -0.017255      -0.017869    -0.013708   \n",
       "impluse          0.964042 -0.017255  1.000000       0.994062     0.991181   \n",
       "pressurehight    0.978034 -0.017869  0.994062       1.000000     0.995566   \n",
       "pressurelow      0.987094 -0.013708  0.991181       0.995566     1.000000   \n",
       "glucose          0.886365 -0.017121  0.956919       0.952714     0.937269   \n",
       "kcm              0.854613 -0.024670  0.920836       0.918453     0.902696   \n",
       "troponin         0.778534 -0.029766  0.862199       0.858754     0.831387   \n",
       "attack_positive  0.036139  0.094432  0.033013       0.031234     0.033080   \n",
       "\n",
       "                  glucose       kcm  troponin  attack_positive  \n",
       "age              0.886365  0.854613  0.778534         0.036139  \n",
       "gender          -0.017121 -0.024670 -0.029766         0.094432  \n",
       "impluse          0.956919  0.920836  0.862199         0.033013  \n",
       "pressurehight    0.952714  0.918453  0.858754         0.031234  \n",
       "pressurelow      0.937269  0.902696  0.831387         0.033080  \n",
       "glucose          1.000000  0.982483  0.950389         0.021148  \n",
       "kcm              0.982483  1.000000  0.976176         0.013657  \n",
       "troponin         0.950389  0.976176  1.000000         0.009094  \n",
       "attack_positive  0.021148  0.013657  0.009094         1.000000  "
      ]
     },
     "execution_count": 28,
     "metadata": {},
     "output_type": "execute_result"
    }
   ],
   "source": [
    "#GETTING THE CORRELATION MATRIX\n",
    "\n",
    "new_df.corr()"
   ]
  },
  {
   "cell_type": "code",
   "execution_count": 29,
   "id": "5f702b59",
   "metadata": {},
   "outputs": [
    {
     "data": {
      "image/png": "[encoded data removed]",
      "text/plain": [
       "<Figure size 900x900 with 2 Axes>"
      ]
     },
     "metadata": {},
     "output_type": "display_data"
    }
   ],
   "source": [
    "#FEATURE SELECTION USING HEATMAP\n",
    "#PLOTTING THE HEATMAP\n",
    "\n",
    "plt.figure(figsize=(9,9))\n",
    "sns.heatmap(new_df.corr(),annot = True,linewidth = 5,linecolor='k',alpha=0.9,cbar_kws={\"shrink\":1})\n",
    "plt.title(\"CORRELATION\",fontsize = 25,color='k')\n",
    "plt.xlabel(\"FEATURES\",fontsize = 25,color = 'k')\n",
    "plt.ylabel(\"FEATURES\",fontsize = 25,color = 'k')\n",
    "plt.show()\n"
   ]
  },
  {
   "cell_type": "markdown",
   "id": "c5434137",
   "metadata": {},
   "source": [
    "ON ANALYSING THE HEATMAP,WE CONCLUDE THAT THE RELATION BETWEEN FEATURE \"troponin\" AND THE TARGET FEATURE \"attack_positive\" IS VERY WEAK(CORRELATION COEFFICIENT : 0.0091)"
   ]
  },
  {
   "cell_type": "markdown",
   "id": "b76639c7",
   "metadata": {},
   "source": [
    "# SPLITTING THE DATASET"
   ]
  },
  {
   "cell_type": "code",
   "execution_count": 30,
   "id": "8587175c",
   "metadata": {},
   "outputs": [],
   "source": [
    "#SPLITTING INTO X MATRIX AND y VECTOR\n",
    "#DROPPING THE \"troponin\" FEATURE\n",
    "\n",
    "X = new_df.drop(columns=['attack_positive','troponin'],axis=1)\n",
    "y = new_df['attack_positive']"
   ]
  },
  {
   "cell_type": "code",
   "execution_count": 31,
   "id": "e2232165",
   "metadata": {},
   "outputs": [
    {
     "name": "stdout",
     "output_type": "stream",
     "text": [
      "shape of X : (1319, 7)\n",
      "shape of y : (1319,)\n"
     ]
    }
   ],
   "source": [
    "#PRINTING THE SHAPE OF (X-MATRIX) AND (y-VECTOR)\n",
    "\n",
    "print(\"shape of X :\",X.shape )\n",
    "print(\"shape of y :\",y.shape )"
   ]
  },
  {
   "cell_type": "code",
   "execution_count": 32,
   "id": "17922794",
   "metadata": {},
   "outputs": [
    {
     "name": "stdout",
     "output_type": "stream",
     "text": [
      "shape of X_train :  (923, 7)\n",
      "shape of X_test :  (396, 7)\n",
      "shape of y_train :  (923,)\n",
      "shape of y_test :  (396,)\n"
     ]
    }
   ],
   "source": [
    "#SPLITTING  THE DATA IN TRAIN AND TEST\n",
    "\n",
    "X_train , X_test , y_train , y_test = train_test_split(X , y , test_size=0.3 , random_state=52)\n",
    "\n",
    "print('shape of X_train : ', X_train.shape)\n",
    "print('shape of X_test : ', X_test.shape)\n",
    "print('shape of y_train : ', y_train.shape)\n",
    "print('shape of y_test : ', y_test.shape)"
   ]
  },
  {
   "cell_type": "code",
   "execution_count": 33,
   "id": "27467bc2",
   "metadata": {},
   "outputs": [
    {
     "data": {
      "text/html": [
       "<div>\n",
       "<style scoped>\n",
       "    .dataframe tbody tr th:only-of-type {\n",
       "        vertical-align: middle;\n",
       "    }\n",
       "\n",
       "    .dataframe tbody tr th {\n",
       "        vertical-align: top;\n",
       "    }\n",
       "\n",
       "    .dataframe thead th {\n",
       "        text-align: right;\n",
       "    }\n",
       "</style>\n",
       "<table border=\"1\" class=\"dataframe\">\n",
       "  <thead>\n",
       "    <tr style=\"text-align: right;\">\n",
       "      <th></th>\n",
       "      <th>age</th>\n",
       "      <th>gender</th>\n",
       "      <th>impluse</th>\n",
       "      <th>pressurehight</th>\n",
       "      <th>pressurelow</th>\n",
       "      <th>glucose</th>\n",
       "      <th>kcm</th>\n",
       "    </tr>\n",
       "  </thead>\n",
       "  <tbody>\n",
       "    <tr>\n",
       "      <th>518</th>\n",
       "      <td>53.0</td>\n",
       "      <td>1</td>\n",
       "      <td>70.0</td>\n",
       "      <td>118.0</td>\n",
       "      <td>68.0</td>\n",
       "      <td>106.00</td>\n",
       "      <td>2.25</td>\n",
       "    </tr>\n",
       "    <tr>\n",
       "      <th>849</th>\n",
       "      <td>62.0</td>\n",
       "      <td>1</td>\n",
       "      <td>81.0</td>\n",
       "      <td>134.0</td>\n",
       "      <td>77.0</td>\n",
       "      <td>141.00</td>\n",
       "      <td>4.11</td>\n",
       "    </tr>\n",
       "    <tr>\n",
       "      <th>1292</th>\n",
       "      <td>82.0</td>\n",
       "      <td>1</td>\n",
       "      <td>116.5</td>\n",
       "      <td>192.5</td>\n",
       "      <td>104.0</td>\n",
       "      <td>276.75</td>\n",
       "      <td>12.03</td>\n",
       "    </tr>\n",
       "    <tr>\n",
       "      <th>472</th>\n",
       "      <td>52.0</td>\n",
       "      <td>1</td>\n",
       "      <td>68.0</td>\n",
       "      <td>116.0</td>\n",
       "      <td>67.0</td>\n",
       "      <td>104.00</td>\n",
       "      <td>2.11</td>\n",
       "    </tr>\n",
       "    <tr>\n",
       "      <th>366</th>\n",
       "      <td>49.0</td>\n",
       "      <td>0</td>\n",
       "      <td>64.0</td>\n",
       "      <td>111.0</td>\n",
       "      <td>63.0</td>\n",
       "      <td>99.00</td>\n",
       "      <td>1.76</td>\n",
       "    </tr>\n",
       "  </tbody>\n",
       "</table>\n",
       "</div>"
      ],
      "text/plain": [
       "       age  gender  impluse  pressurehight  pressurelow  glucose    kcm\n",
       "518   53.0       1     70.0          118.0         68.0   106.00   2.25\n",
       "849   62.0       1     81.0          134.0         77.0   141.00   4.11\n",
       "1292  82.0       1    116.5          192.5        104.0   276.75  12.03\n",
       "472   52.0       1     68.0          116.0         67.0   104.00   2.11\n",
       "366   49.0       0     64.0          111.0         63.0    99.00   1.76"
      ]
     },
     "execution_count": 33,
     "metadata": {},
     "output_type": "execute_result"
    }
   ],
   "source": [
    "#GETING THE HEAD OF X_TRAIN\n",
    "\n",
    "X_train.head()"
   ]
  },
  {
   "cell_type": "markdown",
   "id": "df624fa4",
   "metadata": {},
   "source": [
    "THE DATASET IS NOW SPLITTED"
   ]
  },
  {
   "cell_type": "markdown",
   "id": "5e0afd27",
   "metadata": {},
   "source": [
    "# FEATURE SCALING"
   ]
  },
  {
   "cell_type": "code",
   "execution_count": 34,
   "id": "84967d33",
   "metadata": {},
   "outputs": [],
   "source": [
    "#CREATING OBJECT\n",
    "\n",
    "sc = StandardScaler()"
   ]
  },
  {
   "cell_type": "code",
   "execution_count": 35,
   "id": "42b8282c",
   "metadata": {},
   "outputs": [
    {
     "data": {
      "text/plain": [
       "StandardScaler()"
      ]
     },
     "execution_count": 35,
     "metadata": {},
     "output_type": "execute_result"
    }
   ],
   "source": [
    "#FITTING\n",
    "\n",
    "sc.fit(X_train)"
   ]
  },
  {
   "cell_type": "code",
   "execution_count": 36,
   "id": "dd3fe311",
   "metadata": {},
   "outputs": [
    {
     "data": {
      "text/plain": [
       "array([ 56.63488624,   0.66630553,  76.43282774, 127.70043337,\n",
       "        72.65113759, 143.11180932,   4.57059263])"
      ]
     },
     "execution_count": 36,
     "metadata": {},
     "output_type": "execute_result"
    }
   ],
   "source": [
    "#CHECKING THE MEAN VALUE\n",
    "\n",
    "sc.mean_"
   ]
  },
  {
   "cell_type": "code",
   "execution_count": 37,
   "id": "2a7ff6e2",
   "metadata": {},
   "outputs": [
    {
     "data": {
      "text/plain": [
       "array([13.4322245 ,  0.47153205, 14.86936015, 25.0626716 , 13.74552685,\n",
       "       60.20455854,  3.87071754])"
      ]
     },
     "execution_count": 37,
     "metadata": {},
     "output_type": "execute_result"
    }
   ],
   "source": [
    "#CHECKING THE STANDARD DEVIATION\n",
    "\n",
    "sc.scale_"
   ]
  },
  {
   "cell_type": "code",
   "execution_count": 38,
   "id": "53523f2a",
   "metadata": {
    "scrolled": true
   },
   "outputs": [
    {
     "data": {
      "text/html": [
       "<div>\n",
       "<style scoped>\n",
       "    .dataframe tbody tr th:only-of-type {\n",
       "        vertical-align: middle;\n",
       "    }\n",
       "\n",
       "    .dataframe tbody tr th {\n",
       "        vertical-align: top;\n",
       "    }\n",
       "\n",
       "    .dataframe thead th {\n",
       "        text-align: right;\n",
       "    }\n",
       "</style>\n",
       "<table border=\"1\" class=\"dataframe\">\n",
       "  <thead>\n",
       "    <tr style=\"text-align: right;\">\n",
       "      <th></th>\n",
       "      <th>count</th>\n",
       "      <th>mean</th>\n",
       "      <th>std</th>\n",
       "      <th>min</th>\n",
       "      <th>25%</th>\n",
       "      <th>50%</th>\n",
       "      <th>75%</th>\n",
       "      <th>max</th>\n",
       "    </tr>\n",
       "  </thead>\n",
       "  <tbody>\n",
       "    <tr>\n",
       "      <th>age</th>\n",
       "      <td>923.0</td>\n",
       "      <td>56.634886</td>\n",
       "      <td>13.439507</td>\n",
       "      <td>20.000</td>\n",
       "      <td>48.00</td>\n",
       "      <td>58.0</td>\n",
       "      <td>66.00</td>\n",
       "      <td>92.00</td>\n",
       "    </tr>\n",
       "    <tr>\n",
       "      <th>gender</th>\n",
       "      <td>923.0</td>\n",
       "      <td>0.666306</td>\n",
       "      <td>0.471788</td>\n",
       "      <td>0.000</td>\n",
       "      <td>0.00</td>\n",
       "      <td>1.0</td>\n",
       "      <td>1.00</td>\n",
       "      <td>1.00</td>\n",
       "    </tr>\n",
       "    <tr>\n",
       "      <th>impluse</th>\n",
       "      <td>923.0</td>\n",
       "      <td>76.432828</td>\n",
       "      <td>14.877422</td>\n",
       "      <td>32.500</td>\n",
       "      <td>64.00</td>\n",
       "      <td>75.0</td>\n",
       "      <td>85.50</td>\n",
       "      <td>116.50</td>\n",
       "    </tr>\n",
       "    <tr>\n",
       "      <th>pressurehight</th>\n",
       "      <td>923.0</td>\n",
       "      <td>127.700433</td>\n",
       "      <td>25.076259</td>\n",
       "      <td>65.000</td>\n",
       "      <td>110.00</td>\n",
       "      <td>125.0</td>\n",
       "      <td>144.00</td>\n",
       "      <td>192.50</td>\n",
       "    </tr>\n",
       "    <tr>\n",
       "      <th>pressurelow</th>\n",
       "      <td>923.0</td>\n",
       "      <td>72.651138</td>\n",
       "      <td>13.752979</td>\n",
       "      <td>40.000</td>\n",
       "      <td>62.00</td>\n",
       "      <td>72.0</td>\n",
       "      <td>81.00</td>\n",
       "      <td>109.50</td>\n",
       "    </tr>\n",
       "    <tr>\n",
       "      <th>glucose</th>\n",
       "      <td>923.0</td>\n",
       "      <td>143.111809</td>\n",
       "      <td>60.237199</td>\n",
       "      <td>50.000</td>\n",
       "      <td>98.00</td>\n",
       "      <td>117.0</td>\n",
       "      <td>176.00</td>\n",
       "      <td>276.75</td>\n",
       "    </tr>\n",
       "    <tr>\n",
       "      <th>kcm</th>\n",
       "      <td>923.0</td>\n",
       "      <td>4.570593</td>\n",
       "      <td>3.872816</td>\n",
       "      <td>0.345</td>\n",
       "      <td>1.69</td>\n",
       "      <td>2.9</td>\n",
       "      <td>6.11</td>\n",
       "      <td>12.03</td>\n",
       "    </tr>\n",
       "  </tbody>\n",
       "</table>\n",
       "</div>"
      ],
      "text/plain": [
       "               count        mean        std     min     25%    50%     75%  \\\n",
       "age            923.0   56.634886  13.439507  20.000   48.00   58.0   66.00   \n",
       "gender         923.0    0.666306   0.471788   0.000    0.00    1.0    1.00   \n",
       "impluse        923.0   76.432828  14.877422  32.500   64.00   75.0   85.50   \n",
       "pressurehight  923.0  127.700433  25.076259  65.000  110.00  125.0  144.00   \n",
       "pressurelow    923.0   72.651138  13.752979  40.000   62.00   72.0   81.00   \n",
       "glucose        923.0  143.111809  60.237199  50.000   98.00  117.0  176.00   \n",
       "kcm            923.0    4.570593   3.872816   0.345    1.69    2.9    6.11   \n",
       "\n",
       "                  max  \n",
       "age             92.00  \n",
       "gender           1.00  \n",
       "impluse        116.50  \n",
       "pressurehight  192.50  \n",
       "pressurelow    109.50  \n",
       "glucose        276.75  \n",
       "kcm             12.03  "
      ]
     },
     "execution_count": 38,
     "metadata": {},
     "output_type": "execute_result"
    }
   ],
   "source": [
    "#GETTING THE DESCRIPTION OF THE TRAIN DATASET\n",
    "\n",
    "X_train.describe().T"
   ]
  },
  {
   "cell_type": "code",
   "execution_count": 39,
   "id": "f3efd89f",
   "metadata": {},
   "outputs": [],
   "source": [
    "#TRANSFORMING THE DATASETS\n",
    "\n",
    "X_train_sc = sc.transform(X_train)\n",
    "X_test_sc = sc.transform(X_test)"
   ]
  },
  {
   "cell_type": "code",
   "execution_count": 40,
   "id": "af0bb492",
   "metadata": {},
   "outputs": [
    {
     "data": {
      "text/plain": [
       "array([[-0.2706094 ,  0.70768143, -0.43262304, ..., -0.33837463,\n",
       "        -0.61642856, -0.59952518],\n",
       "       [ 0.39942109,  0.70768143,  0.30715325, ...,  0.31638383,\n",
       "        -0.03507723, -0.11899412],\n",
       "       [ 1.88837774,  0.70768143,  2.69461307, ...,  2.28065921,\n",
       "         2.21973541,  1.92713813],\n",
       "       ...,\n",
       "       [-1.31287906,  0.70768143, -1.10514693, ..., -1.28413685,\n",
       "        -0.88218917, -0.87337622],\n",
       "       [ 0.25052543,  0.70768143,  0.17264847, ...,  0.17088195,\n",
       "        -0.20117761, -0.28692164],\n",
       "       [ 0.69721242, -1.4130652 ,  0.71066758, ...,  0.68013853,\n",
       "         0.62932428,  0.46229345]])"
      ]
     },
     "execution_count": 40,
     "metadata": {},
     "output_type": "execute_result"
    }
   ],
   "source": [
    "#CALLING THE ARRAY\n",
    "\n",
    "X_train_sc"
   ]
  },
  {
   "cell_type": "code",
   "execution_count": 41,
   "id": "11c97e0c",
   "metadata": {},
   "outputs": [],
   "source": [
    "#CONVERTING THE ARRAY INTO DATAFRAME\n",
    "\n",
    "X_train_sc = pd.DataFrame(X_train_sc,columns = ['age','gender','impluse','pressurehight','pressurelow','glucose','kcm'])\n",
    "X_test_sc = pd.DataFrame(X_test_sc,columns = ['age','gender','impluse','pressurehight','pressurelow','glucose','kcm'])"
   ]
  },
  {
   "cell_type": "code",
   "execution_count": 42,
   "id": "31089fd8",
   "metadata": {},
   "outputs": [
    {
     "data": {
      "text/html": [
       "<div>\n",
       "<style scoped>\n",
       "    .dataframe tbody tr th:only-of-type {\n",
       "        vertical-align: middle;\n",
       "    }\n",
       "\n",
       "    .dataframe tbody tr th {\n",
       "        vertical-align: top;\n",
       "    }\n",
       "\n",
       "    .dataframe thead th {\n",
       "        text-align: right;\n",
       "    }\n",
       "</style>\n",
       "<table border=\"1\" class=\"dataframe\">\n",
       "  <thead>\n",
       "    <tr style=\"text-align: right;\">\n",
       "      <th></th>\n",
       "      <th>age</th>\n",
       "      <th>gender</th>\n",
       "      <th>impluse</th>\n",
       "      <th>pressurehight</th>\n",
       "      <th>pressurelow</th>\n",
       "      <th>glucose</th>\n",
       "      <th>kcm</th>\n",
       "    </tr>\n",
       "  </thead>\n",
       "  <tbody>\n",
       "    <tr>\n",
       "      <th>0</th>\n",
       "      <td>-0.270609</td>\n",
       "      <td>0.707681</td>\n",
       "      <td>-0.432623</td>\n",
       "      <td>-0.387047</td>\n",
       "      <td>-0.338375</td>\n",
       "      <td>-0.616429</td>\n",
       "      <td>-0.599525</td>\n",
       "    </tr>\n",
       "    <tr>\n",
       "      <th>1</th>\n",
       "      <td>0.399421</td>\n",
       "      <td>0.707681</td>\n",
       "      <td>0.307153</td>\n",
       "      <td>0.251353</td>\n",
       "      <td>0.316384</td>\n",
       "      <td>-0.035077</td>\n",
       "      <td>-0.118994</td>\n",
       "    </tr>\n",
       "    <tr>\n",
       "      <th>2</th>\n",
       "      <td>1.888378</td>\n",
       "      <td>0.707681</td>\n",
       "      <td>2.694613</td>\n",
       "      <td>2.585501</td>\n",
       "      <td>2.280659</td>\n",
       "      <td>2.219735</td>\n",
       "      <td>1.927138</td>\n",
       "    </tr>\n",
       "    <tr>\n",
       "      <th>3</th>\n",
       "      <td>-0.345057</td>\n",
       "      <td>0.707681</td>\n",
       "      <td>-0.567128</td>\n",
       "      <td>-0.466847</td>\n",
       "      <td>-0.411126</td>\n",
       "      <td>-0.649649</td>\n",
       "      <td>-0.635694</td>\n",
       "    </tr>\n",
       "    <tr>\n",
       "      <th>4</th>\n",
       "      <td>-0.568401</td>\n",
       "      <td>-1.413065</td>\n",
       "      <td>-0.836137</td>\n",
       "      <td>-0.666347</td>\n",
       "      <td>-0.702129</td>\n",
       "      <td>-0.732699</td>\n",
       "      <td>-0.726117</td>\n",
       "    </tr>\n",
       "  </tbody>\n",
       "</table>\n",
       "</div>"
      ],
      "text/plain": [
       "        age    gender   impluse  pressurehight  pressurelow   glucose  \\\n",
       "0 -0.270609  0.707681 -0.432623      -0.387047    -0.338375 -0.616429   \n",
       "1  0.399421  0.707681  0.307153       0.251353     0.316384 -0.035077   \n",
       "2  1.888378  0.707681  2.694613       2.585501     2.280659  2.219735   \n",
       "3 -0.345057  0.707681 -0.567128      -0.466847    -0.411126 -0.649649   \n",
       "4 -0.568401 -1.413065 -0.836137      -0.666347    -0.702129 -0.732699   \n",
       "\n",
       "        kcm  \n",
       "0 -0.599525  \n",
       "1 -0.118994  \n",
       "2  1.927138  \n",
       "3 -0.635694  \n",
       "4 -0.726117  "
      ]
     },
     "execution_count": 42,
     "metadata": {},
     "output_type": "execute_result"
    }
   ],
   "source": [
    "#GETTING TOP 5 VALUES\n",
    "\n",
    "X_train_sc.head()"
   ]
  },
  {
   "cell_type": "code",
   "execution_count": 43,
   "id": "b32e7cb0",
   "metadata": {},
   "outputs": [
    {
     "data": {
      "text/html": [
       "<div>\n",
       "<style scoped>\n",
       "    .dataframe tbody tr th:only-of-type {\n",
       "        vertical-align: middle;\n",
       "    }\n",
       "\n",
       "    .dataframe tbody tr th {\n",
       "        vertical-align: top;\n",
       "    }\n",
       "\n",
       "    .dataframe thead th {\n",
       "        text-align: right;\n",
       "    }\n",
       "</style>\n",
       "<table border=\"1\" class=\"dataframe\">\n",
       "  <thead>\n",
       "    <tr style=\"text-align: right;\">\n",
       "      <th></th>\n",
       "      <th>count</th>\n",
       "      <th>mean</th>\n",
       "      <th>std</th>\n",
       "      <th>min</th>\n",
       "      <th>25%</th>\n",
       "      <th>50%</th>\n",
       "      <th>75%</th>\n",
       "      <th>max</th>\n",
       "    </tr>\n",
       "  </thead>\n",
       "  <tbody>\n",
       "    <tr>\n",
       "      <th>age</th>\n",
       "      <td>923.0</td>\n",
       "      <td>-2.394858e-16</td>\n",
       "      <td>1.000542</td>\n",
       "      <td>-2.727388</td>\n",
       "      <td>-0.642849</td>\n",
       "      <td>0.101630</td>\n",
       "      <td>0.697212</td>\n",
       "      <td>2.632856</td>\n",
       "    </tr>\n",
       "    <tr>\n",
       "      <th>gender</th>\n",
       "      <td>923.0</td>\n",
       "      <td>-1.739309e-16</td>\n",
       "      <td>1.000542</td>\n",
       "      <td>-1.413065</td>\n",
       "      <td>-1.413065</td>\n",
       "      <td>0.707681</td>\n",
       "      <td>0.707681</td>\n",
       "      <td>0.707681</td>\n",
       "    </tr>\n",
       "    <tr>\n",
       "      <th>impluse</th>\n",
       "      <td>923.0</td>\n",
       "      <td>6.747943e-17</td>\n",
       "      <td>1.000542</td>\n",
       "      <td>-2.954588</td>\n",
       "      <td>-0.836137</td>\n",
       "      <td>-0.096361</td>\n",
       "      <td>0.609789</td>\n",
       "      <td>2.694613</td>\n",
       "    </tr>\n",
       "    <tr>\n",
       "      <th>pressurehight</th>\n",
       "      <td>923.0</td>\n",
       "      <td>3.680696e-17</td>\n",
       "      <td>1.000542</td>\n",
       "      <td>-2.501746</td>\n",
       "      <td>-0.706247</td>\n",
       "      <td>-0.107747</td>\n",
       "      <td>0.650352</td>\n",
       "      <td>2.585501</td>\n",
       "    </tr>\n",
       "    <tr>\n",
       "      <th>pressurelow</th>\n",
       "      <td>923.0</td>\n",
       "      <td>1.555275e-16</td>\n",
       "      <td>1.000542</td>\n",
       "      <td>-2.375401</td>\n",
       "      <td>-0.774880</td>\n",
       "      <td>-0.047371</td>\n",
       "      <td>0.607388</td>\n",
       "      <td>2.680789</td>\n",
       "    </tr>\n",
       "    <tr>\n",
       "      <th>glucose</th>\n",
       "      <td>923.0</td>\n",
       "      <td>-4.316999e-16</td>\n",
       "      <td>1.000542</td>\n",
       "      <td>-1.546591</td>\n",
       "      <td>-0.749309</td>\n",
       "      <td>-0.433718</td>\n",
       "      <td>0.546274</td>\n",
       "      <td>2.219735</td>\n",
       "    </tr>\n",
       "    <tr>\n",
       "      <th>kcm</th>\n",
       "      <td>923.0</td>\n",
       "      <td>-9.989602e-17</td>\n",
       "      <td>1.000542</td>\n",
       "      <td>-1.091682</td>\n",
       "      <td>-0.744201</td>\n",
       "      <td>-0.431598</td>\n",
       "      <td>0.397706</td>\n",
       "      <td>1.927138</td>\n",
       "    </tr>\n",
       "  </tbody>\n",
       "</table>\n",
       "</div>"
      ],
      "text/plain": [
       "               count          mean       std       min       25%       50%  \\\n",
       "age            923.0 -2.394858e-16  1.000542 -2.727388 -0.642849  0.101630   \n",
       "gender         923.0 -1.739309e-16  1.000542 -1.413065 -1.413065  0.707681   \n",
       "impluse        923.0  6.747943e-17  1.000542 -2.954588 -0.836137 -0.096361   \n",
       "pressurehight  923.0  3.680696e-17  1.000542 -2.501746 -0.706247 -0.107747   \n",
       "pressurelow    923.0  1.555275e-16  1.000542 -2.375401 -0.774880 -0.047371   \n",
       "glucose        923.0 -4.316999e-16  1.000542 -1.546591 -0.749309 -0.433718   \n",
       "kcm            923.0 -9.989602e-17  1.000542 -1.091682 -0.744201 -0.431598   \n",
       "\n",
       "                    75%       max  \n",
       "age            0.697212  2.632856  \n",
       "gender         0.707681  0.707681  \n",
       "impluse        0.609789  2.694613  \n",
       "pressurehight  0.650352  2.585501  \n",
       "pressurelow    0.607388  2.680789  \n",
       "glucose        0.546274  2.219735  \n",
       "kcm            0.397706  1.927138  "
      ]
     },
     "execution_count": 43,
     "metadata": {},
     "output_type": "execute_result"
    }
   ],
   "source": [
    "#CHECKING THE DISTRIBUTION OF THE DATAFRAME\n",
    "\n",
    "X_train_sc.describe().T"
   ]
  },
  {
   "cell_type": "code",
   "execution_count": 44,
   "id": "0df331df",
   "metadata": {},
   "outputs": [
    {
     "data": {
      "text/html": [
       "<div>\n",
       "<style scoped>\n",
       "    .dataframe tbody tr th:only-of-type {\n",
       "        vertical-align: middle;\n",
       "    }\n",
       "\n",
       "    .dataframe tbody tr th {\n",
       "        vertical-align: top;\n",
       "    }\n",
       "\n",
       "    .dataframe thead th {\n",
       "        text-align: right;\n",
       "    }\n",
       "</style>\n",
       "<table border=\"1\" class=\"dataframe\">\n",
       "  <thead>\n",
       "    <tr style=\"text-align: right;\">\n",
       "      <th></th>\n",
       "      <th>age</th>\n",
       "      <th>gender</th>\n",
       "      <th>impluse</th>\n",
       "      <th>pressurehight</th>\n",
       "      <th>pressurelow</th>\n",
       "      <th>glucose</th>\n",
       "      <th>kcm</th>\n",
       "    </tr>\n",
       "  </thead>\n",
       "  <tbody>\n",
       "    <tr>\n",
       "      <th>count</th>\n",
       "      <td>923.00</td>\n",
       "      <td>923.00</td>\n",
       "      <td>923.00</td>\n",
       "      <td>923.00</td>\n",
       "      <td>923.00</td>\n",
       "      <td>923.00</td>\n",
       "      <td>923.00</td>\n",
       "    </tr>\n",
       "    <tr>\n",
       "      <th>mean</th>\n",
       "      <td>-0.00</td>\n",
       "      <td>-0.00</td>\n",
       "      <td>0.00</td>\n",
       "      <td>0.00</td>\n",
       "      <td>0.00</td>\n",
       "      <td>-0.00</td>\n",
       "      <td>-0.00</td>\n",
       "    </tr>\n",
       "    <tr>\n",
       "      <th>std</th>\n",
       "      <td>1.00</td>\n",
       "      <td>1.00</td>\n",
       "      <td>1.00</td>\n",
       "      <td>1.00</td>\n",
       "      <td>1.00</td>\n",
       "      <td>1.00</td>\n",
       "      <td>1.00</td>\n",
       "    </tr>\n",
       "    <tr>\n",
       "      <th>min</th>\n",
       "      <td>-2.73</td>\n",
       "      <td>-1.41</td>\n",
       "      <td>-2.95</td>\n",
       "      <td>-2.50</td>\n",
       "      <td>-2.38</td>\n",
       "      <td>-1.55</td>\n",
       "      <td>-1.09</td>\n",
       "    </tr>\n",
       "    <tr>\n",
       "      <th>25%</th>\n",
       "      <td>-0.64</td>\n",
       "      <td>-1.41</td>\n",
       "      <td>-0.84</td>\n",
       "      <td>-0.71</td>\n",
       "      <td>-0.77</td>\n",
       "      <td>-0.75</td>\n",
       "      <td>-0.74</td>\n",
       "    </tr>\n",
       "    <tr>\n",
       "      <th>50%</th>\n",
       "      <td>0.10</td>\n",
       "      <td>0.71</td>\n",
       "      <td>-0.10</td>\n",
       "      <td>-0.11</td>\n",
       "      <td>-0.05</td>\n",
       "      <td>-0.43</td>\n",
       "      <td>-0.43</td>\n",
       "    </tr>\n",
       "    <tr>\n",
       "      <th>75%</th>\n",
       "      <td>0.70</td>\n",
       "      <td>0.71</td>\n",
       "      <td>0.61</td>\n",
       "      <td>0.65</td>\n",
       "      <td>0.61</td>\n",
       "      <td>0.55</td>\n",
       "      <td>0.40</td>\n",
       "    </tr>\n",
       "    <tr>\n",
       "      <th>max</th>\n",
       "      <td>2.63</td>\n",
       "      <td>0.71</td>\n",
       "      <td>2.69</td>\n",
       "      <td>2.59</td>\n",
       "      <td>2.68</td>\n",
       "      <td>2.22</td>\n",
       "      <td>1.93</td>\n",
       "    </tr>\n",
       "  </tbody>\n",
       "</table>\n",
       "</div>"
      ],
      "text/plain": [
       "          age  gender  impluse  pressurehight  pressurelow  glucose     kcm\n",
       "count  923.00  923.00   923.00         923.00       923.00   923.00  923.00\n",
       "mean    -0.00   -0.00     0.00           0.00         0.00    -0.00   -0.00\n",
       "std      1.00    1.00     1.00           1.00         1.00     1.00    1.00\n",
       "min     -2.73   -1.41    -2.95          -2.50        -2.38    -1.55   -1.09\n",
       "25%     -0.64   -1.41    -0.84          -0.71        -0.77    -0.75   -0.74\n",
       "50%      0.10    0.71    -0.10          -0.11        -0.05    -0.43   -0.43\n",
       "75%      0.70    0.71     0.61           0.65         0.61     0.55    0.40\n",
       "max      2.63    0.71     2.69           2.59         2.68     2.22    1.93"
      ]
     },
     "execution_count": 44,
     "metadata": {},
     "output_type": "execute_result"
    }
   ],
   "source": [
    "#REDUCING THE VALUES UPTO 2 DECIMAL COUNTS\n",
    "\n",
    "X_train_sc.describe().round(2)"
   ]
  },
  {
   "cell_type": "markdown",
   "id": "6c743f0a",
   "metadata": {},
   "source": [
    "WE HAVE SUCCESSFULLY RESCALED THE FEATURES WHERE \"MEAN\" IS 0 AND \"STANDARD DEVIATION\" IS 1!!"
   ]
  },
  {
   "cell_type": "markdown",
   "id": "1104ae5c",
   "metadata": {},
   "source": [
    "# MODEL TRAINING"
   ]
  },
  {
   "cell_type": "code",
   "execution_count": 45,
   "id": "e3b2b17a",
   "metadata": {},
   "outputs": [
    {
     "name": "stderr",
     "output_type": "stream",
     "text": [
      "C:\\Users\\Ritika Kumari\\anaconda3\\lib\\site-packages\\seaborn\\_decorators.py:36: FutureWarning: Pass the following variable as a keyword arg: x. From version 0.12, the only valid positional argument will be `data`, and passing other arguments without an explicit keyword will result in an error or misinterpretation.\n",
      "  warnings.warn(\n"
     ]
    },
    {
     "ename": "ValueError",
     "evalue": "Could not interpret value `attack_positive` for parameter `hue`",
     "output_type": "error",
     "traceback": [
      "\u001b[1;31m---------------------------------------------------------------------------\u001b[0m",
      "\u001b[1;31mValueError\u001b[0m                                Traceback (most recent call last)",
      "\u001b[1;32m~\\AppData\\Local\\Temp\\ipykernel_8176\\3540747641.py\u001b[0m in \u001b[0;36m<module>\u001b[1;34m\u001b[0m\n\u001b[1;32m----> 1\u001b[1;33m \u001b[0msns\u001b[0m\u001b[1;33m.\u001b[0m\u001b[0mscatterplot\u001b[0m\u001b[1;33m(\u001b[0m\u001b[0mnew_df\u001b[0m\u001b[1;33m,\u001b[0m\u001b[0mhue\u001b[0m\u001b[1;33m=\u001b[0m\u001b[1;34m'attack_positive'\u001b[0m\u001b[1;33m)\u001b[0m\u001b[1;33m\u001b[0m\u001b[1;33m\u001b[0m\u001b[0m\n\u001b[0m",
      "\u001b[1;32m~\\anaconda3\\lib\\site-packages\\seaborn\\_decorators.py\u001b[0m in \u001b[0;36minner_f\u001b[1;34m(*args, **kwargs)\u001b[0m\n\u001b[0;32m     44\u001b[0m             )\n\u001b[0;32m     45\u001b[0m         \u001b[0mkwargs\u001b[0m\u001b[1;33m.\u001b[0m\u001b[0mupdate\u001b[0m\u001b[1;33m(\u001b[0m\u001b[1;33m{\u001b[0m\u001b[0mk\u001b[0m\u001b[1;33m:\u001b[0m \u001b[0marg\u001b[0m \u001b[1;32mfor\u001b[0m \u001b[0mk\u001b[0m\u001b[1;33m,\u001b[0m \u001b[0marg\u001b[0m \u001b[1;32min\u001b[0m \u001b[0mzip\u001b[0m\u001b[1;33m(\u001b[0m\u001b[0msig\u001b[0m\u001b[1;33m.\u001b[0m\u001b[0mparameters\u001b[0m\u001b[1;33m,\u001b[0m \u001b[0margs\u001b[0m\u001b[1;33m)\u001b[0m\u001b[1;33m}\u001b[0m\u001b[1;33m)\u001b[0m\u001b[1;33m\u001b[0m\u001b[1;33m\u001b[0m\u001b[0m\n\u001b[1;32m---> 46\u001b[1;33m         \u001b[1;32mreturn\u001b[0m \u001b[0mf\u001b[0m\u001b[1;33m(\u001b[0m\u001b[1;33m**\u001b[0m\u001b[0mkwargs\u001b[0m\u001b[1;33m)\u001b[0m\u001b[1;33m\u001b[0m\u001b[1;33m\u001b[0m\u001b[0m\n\u001b[0m\u001b[0;32m     47\u001b[0m     \u001b[1;32mreturn\u001b[0m \u001b[0minner_f\u001b[0m\u001b[1;33m\u001b[0m\u001b[1;33m\u001b[0m\u001b[0m\n\u001b[0;32m     48\u001b[0m \u001b[1;33m\u001b[0m\u001b[0m\n",
      "\u001b[1;32m~\\anaconda3\\lib\\site-packages\\seaborn\\relational.py\u001b[0m in \u001b[0;36mscatterplot\u001b[1;34m(x, y, hue, style, size, data, palette, hue_order, hue_norm, sizes, size_order, size_norm, markers, style_order, x_bins, y_bins, units, estimator, ci, n_boot, alpha, x_jitter, y_jitter, legend, ax, **kwargs)\u001b[0m\n\u001b[0;32m    806\u001b[0m \u001b[1;33m\u001b[0m\u001b[0m\n\u001b[0;32m    807\u001b[0m     \u001b[0mvariables\u001b[0m \u001b[1;33m=\u001b[0m \u001b[0m_ScatterPlotter\u001b[0m\u001b[1;33m.\u001b[0m\u001b[0mget_semantics\u001b[0m\u001b[1;33m(\u001b[0m\u001b[0mlocals\u001b[0m\u001b[1;33m(\u001b[0m\u001b[1;33m)\u001b[0m\u001b[1;33m)\u001b[0m\u001b[1;33m\u001b[0m\u001b[1;33m\u001b[0m\u001b[0m\n\u001b[1;32m--> 808\u001b[1;33m     p = _ScatterPlotter(\n\u001b[0m\u001b[0;32m    809\u001b[0m         \u001b[0mdata\u001b[0m\u001b[1;33m=\u001b[0m\u001b[0mdata\u001b[0m\u001b[1;33m,\u001b[0m \u001b[0mvariables\u001b[0m\u001b[1;33m=\u001b[0m\u001b[0mvariables\u001b[0m\u001b[1;33m,\u001b[0m\u001b[1;33m\u001b[0m\u001b[1;33m\u001b[0m\u001b[0m\n\u001b[0;32m    810\u001b[0m         \u001b[0mx_bins\u001b[0m\u001b[1;33m=\u001b[0m\u001b[0mx_bins\u001b[0m\u001b[1;33m,\u001b[0m \u001b[0my_bins\u001b[0m\u001b[1;33m=\u001b[0m\u001b[0my_bins\u001b[0m\u001b[1;33m,\u001b[0m\u001b[1;33m\u001b[0m\u001b[1;33m\u001b[0m\u001b[0m\n",
      "\u001b[1;32m~\\anaconda3\\lib\\site-packages\\seaborn\\relational.py\u001b[0m in \u001b[0;36m__init__\u001b[1;34m(self, data, variables, x_bins, y_bins, estimator, ci, n_boot, alpha, x_jitter, y_jitter, legend)\u001b[0m\n\u001b[0;32m    585\u001b[0m         )\n\u001b[0;32m    586\u001b[0m \u001b[1;33m\u001b[0m\u001b[0m\n\u001b[1;32m--> 587\u001b[1;33m         \u001b[0msuper\u001b[0m\u001b[1;33m(\u001b[0m\u001b[1;33m)\u001b[0m\u001b[1;33m.\u001b[0m\u001b[0m__init__\u001b[0m\u001b[1;33m(\u001b[0m\u001b[0mdata\u001b[0m\u001b[1;33m=\u001b[0m\u001b[0mdata\u001b[0m\u001b[1;33m,\u001b[0m \u001b[0mvariables\u001b[0m\u001b[1;33m=\u001b[0m\u001b[0mvariables\u001b[0m\u001b[1;33m)\u001b[0m\u001b[1;33m\u001b[0m\u001b[1;33m\u001b[0m\u001b[0m\n\u001b[0m\u001b[0;32m    588\u001b[0m \u001b[1;33m\u001b[0m\u001b[0m\n\u001b[0;32m    589\u001b[0m         \u001b[0mself\u001b[0m\u001b[1;33m.\u001b[0m\u001b[0malpha\u001b[0m \u001b[1;33m=\u001b[0m \u001b[0malpha\u001b[0m\u001b[1;33m\u001b[0m\u001b[1;33m\u001b[0m\u001b[0m\n",
      "\u001b[1;32m~\\anaconda3\\lib\\site-packages\\seaborn\\_core.py\u001b[0m in \u001b[0;36m__init__\u001b[1;34m(self, data, variables)\u001b[0m\n\u001b[0;32m    603\u001b[0m     \u001b[1;32mdef\u001b[0m \u001b[0m__init__\u001b[0m\u001b[1;33m(\u001b[0m\u001b[0mself\u001b[0m\u001b[1;33m,\u001b[0m \u001b[0mdata\u001b[0m\u001b[1;33m=\u001b[0m\u001b[1;32mNone\u001b[0m\u001b[1;33m,\u001b[0m \u001b[0mvariables\u001b[0m\u001b[1;33m=\u001b[0m\u001b[1;33m{\u001b[0m\u001b[1;33m}\u001b[0m\u001b[1;33m)\u001b[0m\u001b[1;33m:\u001b[0m\u001b[1;33m\u001b[0m\u001b[1;33m\u001b[0m\u001b[0m\n\u001b[0;32m    604\u001b[0m \u001b[1;33m\u001b[0m\u001b[0m\n\u001b[1;32m--> 605\u001b[1;33m         \u001b[0mself\u001b[0m\u001b[1;33m.\u001b[0m\u001b[0massign_variables\u001b[0m\u001b[1;33m(\u001b[0m\u001b[0mdata\u001b[0m\u001b[1;33m,\u001b[0m \u001b[0mvariables\u001b[0m\u001b[1;33m)\u001b[0m\u001b[1;33m\u001b[0m\u001b[1;33m\u001b[0m\u001b[0m\n\u001b[0m\u001b[0;32m    606\u001b[0m \u001b[1;33m\u001b[0m\u001b[0m\n\u001b[0;32m    607\u001b[0m         \u001b[1;32mfor\u001b[0m \u001b[0mvar\u001b[0m\u001b[1;33m,\u001b[0m \u001b[0mcls\u001b[0m \u001b[1;32min\u001b[0m \u001b[0mself\u001b[0m\u001b[1;33m.\u001b[0m\u001b[0m_semantic_mappings\u001b[0m\u001b[1;33m.\u001b[0m\u001b[0mitems\u001b[0m\u001b[1;33m(\u001b[0m\u001b[1;33m)\u001b[0m\u001b[1;33m:\u001b[0m\u001b[1;33m\u001b[0m\u001b[1;33m\u001b[0m\u001b[0m\n",
      "\u001b[1;32m~\\anaconda3\\lib\\site-packages\\seaborn\\_core.py\u001b[0m in \u001b[0;36massign_variables\u001b[1;34m(self, data, variables)\u001b[0m\n\u001b[0;32m    666\u001b[0m         \u001b[1;32melse\u001b[0m\u001b[1;33m:\u001b[0m\u001b[1;33m\u001b[0m\u001b[1;33m\u001b[0m\u001b[0m\n\u001b[0;32m    667\u001b[0m             \u001b[0mself\u001b[0m\u001b[1;33m.\u001b[0m\u001b[0minput_format\u001b[0m \u001b[1;33m=\u001b[0m \u001b[1;34m\"long\"\u001b[0m\u001b[1;33m\u001b[0m\u001b[1;33m\u001b[0m\u001b[0m\n\u001b[1;32m--> 668\u001b[1;33m             plot_data, variables = self._assign_variables_longform(\n\u001b[0m\u001b[0;32m    669\u001b[0m                 \u001b[0mdata\u001b[0m\u001b[1;33m,\u001b[0m \u001b[1;33m**\u001b[0m\u001b[0mvariables\u001b[0m\u001b[1;33m,\u001b[0m\u001b[1;33m\u001b[0m\u001b[1;33m\u001b[0m\u001b[0m\n\u001b[0;32m    670\u001b[0m             )\n",
      "\u001b[1;32m~\\anaconda3\\lib\\site-packages\\seaborn\\_core.py\u001b[0m in \u001b[0;36m_assign_variables_longform\u001b[1;34m(self, data, **kwargs)\u001b[0m\n\u001b[0;32m    901\u001b[0m \u001b[1;33m\u001b[0m\u001b[0m\n\u001b[0;32m    902\u001b[0m                 \u001b[0merr\u001b[0m \u001b[1;33m=\u001b[0m \u001b[1;34mf\"Could not interpret value `{val}` for parameter `{key}`\"\u001b[0m\u001b[1;33m\u001b[0m\u001b[1;33m\u001b[0m\u001b[0m\n\u001b[1;32m--> 903\u001b[1;33m                 \u001b[1;32mraise\u001b[0m \u001b[0mValueError\u001b[0m\u001b[1;33m(\u001b[0m\u001b[0merr\u001b[0m\u001b[1;33m)\u001b[0m\u001b[1;33m\u001b[0m\u001b[1;33m\u001b[0m\u001b[0m\n\u001b[0m\u001b[0;32m    904\u001b[0m \u001b[1;33m\u001b[0m\u001b[0m\n\u001b[0;32m    905\u001b[0m             \u001b[1;32melse\u001b[0m\u001b[1;33m:\u001b[0m\u001b[1;33m\u001b[0m\u001b[1;33m\u001b[0m\u001b[0m\n",
      "\u001b[1;31mValueError\u001b[0m: Could not interpret value `attack_positive` for parameter `hue`"
     ]
    }
   ],
   "source": [
    "sns.scatterplot(new_df,hue='attack_positive')"
   ]
  },
  {
   "cell_type": "code",
   "execution_count": null,
   "id": "c7a6ecad",
   "metadata": {},
   "outputs": [],
   "source": [
    "svc = SVC(kernel='rbf')\n",
    "svc.fit(X_train_sc , y_train)\n",
    "print(svc.score(X_test , y_test))\n",
    "\n",
    "dt = DecisionTreeClassifier()\n",
    "dt.fit(X_train_sc , y_train)\n",
    "\n",
    "rf=RandomForestClassifier()\n",
    "rf.fit(X_train_sc , y_train)\n",
    "\n",
    "knn = KNeighborsClassifier(n_neighbors = 5)\n",
    "knn.fit(X_train_sc , y_train)\n",
    "\n",
    "m= MultinomialNB()\n",
    "m.fit(X_train_sc , y_train)\n",
    "\n",
    "g=GaussianNB()\n",
    "g.fit(X_train_sc , y_train)\n",
    "\n",
    "b=BernoulliNB()\n",
    "b.fit(X_train_sc , y_train)\n"
   ]
  },
  {
   "cell_type": "code",
   "execution_count": null,
   "id": "6129576e",
   "metadata": {},
   "outputs": [],
   "source": [
    "print(svc.score(X_test_sc , y_test))\n",
    "csv_svm = cross_val_score(svc,X_train,y_train,cv=10)\n",
    "print(csv_svm.mean())\n",
    "\n",
    "print(dt.score(X_test , y_test))\n",
    "csv_dt = cross_val_score(dt,X_train,y_train,cv=10)\n",
    "print(csv_dt.mean())\n",
    "\n",
    "\n",
    "print(rf.score(X_test , y_test))\n",
    "csv_rf = cross_val_score(rf,X_train,y_train,cv=10)\n",
    "print(csv_rf.mean())\n",
    "\n",
    "print(knn.score(X_test , y_test))\n",
    "csv_knn = cross_val_score(knn,X_train,y_train,cv=10)\n",
    "print(csv_knn.mean())\n",
    "\n",
    "print(g.score(X_test , y_test))\n",
    "csv_g = cross_val_score(g,X_train,y_train,cv=10)\n",
    "print(csv_g.mean())\n",
    "\n",
    "print(b.score(X_test , y_test))\n",
    "csv_b = cross_val_score(b,X_train,y_train,cv=10)\n",
    "print(csv_b.mean())\n",
    "\n"
   ]
  },
  {
   "cell_type": "code",
   "execution_count": null,
   "id": "7a1b6bd7",
   "metadata": {},
   "outputs": [],
   "source": [
    "svc = SVC(kernel='linear')\n",
    "svc.fit(X_train_sc , y_train)\n",
    "print(svc.score(X_test_sc , y_test))"
   ]
  },
  {
   "cell_type": "code",
   "execution_count": null,
   "id": "90c38f99",
   "metadata": {},
   "outputs": [],
   "source": [
    "dt = DecisionTreeClassifier(criterion='entropy')\n",
    "dt.fit(X_train_sc , y_train)\n",
    "dt.score(X_test , y_test)"
   ]
  },
  {
   "cell_type": "code",
   "execution_count": null,
   "id": "31a91ae4",
   "metadata": {},
   "outputs": [],
   "source": [
    "rf=RandomForestClassifier(n_estimators=10,criterion='gini')\n",
    "rf.fit(X_train_sc , y_train)"
   ]
  },
  {
   "cell_type": "code",
   "execution_count": null,
   "id": "11d33b19",
   "metadata": {},
   "outputs": [],
   "source": [
    "print(rf.score(X_test , y_test))\n"
   ]
  },
  {
   "cell_type": "code",
   "execution_count": null,
   "id": "d9137eaa",
   "metadata": {},
   "outputs": [],
   "source": [
    "knn = KNeighborsClassifier(n_neighbors = 100)\n",
    "knn.fit(X_train_sc, y_train)"
   ]
  },
  {
   "cell_type": "code",
   "execution_count": null,
   "id": "4d5777c4",
   "metadata": {},
   "outputs": [],
   "source": [
    "knn.score(X_test,y_test)"
   ]
  },
  {
   "cell_type": "code",
   "execution_count": null,
   "id": "601f1d4f",
   "metadata": {},
   "outputs": [],
   "source": [
    "g=GaussianNB()\n",
    "g.fit(X_train_sc , y_train)"
   ]
  },
  {
   "cell_type": "code",
   "execution_count": null,
   "id": "e5bb9f17",
   "metadata": {},
   "outputs": [],
   "source": [
    "g.score(X_test_sc,y_test)"
   ]
  },
  {
   "cell_type": "code",
   "execution_count": null,
   "id": "ac8163f5",
   "metadata": {},
   "outputs": [],
   "source": [
    "m= MultinomialNB()\n",
    "m.fit(X_train, y_train)\n",
    "m.score(X_test_sc,y_test)\n"
   ]
  },
  {
   "cell_type": "code",
   "execution_count": null,
   "id": "cbbfd0a1",
   "metadata": {},
   "outputs": [],
   "source": [
    "b=BernoulliNB()\n",
    "b.fit(X_train , y_train)\n",
    "m.score(X_test,y_test)"
   ]
  },
  {
   "cell_type": "code",
   "execution_count": null,
   "id": "e946f22e",
   "metadata": {},
   "outputs": [],
   "source": [
    "#logistic regression"
   ]
  },
  {
   "cell_type": "code",
   "execution_count": null,
   "id": "658cb408",
   "metadata": {},
   "outputs": [],
   "source": [
    "from sklearn.linear_model import LogisticRegression\n",
    "classifier = LogisticRegression()"
   ]
  },
  {
   "cell_type": "code",
   "execution_count": null,
   "id": "171708c5",
   "metadata": {},
   "outputs": [],
   "source": []
  },
  {
   "cell_type": "code",
   "execution_count": null,
   "id": "46b3feae",
   "metadata": {},
   "outputs": [],
   "source": [
    "from sklearn.model_selection import GridSearchCV\n",
    "parameter = {\"penalty\":['l1', 'l2', 'elasticnet', 'none'],'C':[1,2,3,4,5,6,10,20,30,40,50],'max_iter':[100,200,300]}"
   ]
  },
  {
   "cell_type": "code",
   "execution_count": null,
   "id": "77a3776a",
   "metadata": {},
   "outputs": [],
   "source": [
    "classifier_regressor = GridSearchCV(classifier , param_grid =parameter,scoring = 'accuracy',cv = 5)"
   ]
  },
  {
   "cell_type": "code",
   "execution_count": null,
   "id": "b4cb50ed",
   "metadata": {
    "scrolled": true
   },
   "outputs": [],
   "source": [
    "classifier_regressor.fit(X_train_sc, y_train)"
   ]
  },
  {
   "cell_type": "code",
   "execution_count": null,
   "id": "4943be52",
   "metadata": {},
   "outputs": [],
   "source": [
    "#GETTING THE BEST COMBINATION OF VALUES\n",
    "\n",
    "print(classifier_regressor.best_params_)"
   ]
  },
  {
   "cell_type": "code",
   "execution_count": null,
   "id": "818639e8",
   "metadata": {},
   "outputs": [],
   "source": [
    "print(classifier_regressor.best_score_)"
   ]
  },
  {
   "cell_type": "code",
   "execution_count": null,
   "id": "65f62bf5",
   "metadata": {},
   "outputs": [],
   "source": []
  },
  {
   "cell_type": "code",
   "execution_count": null,
   "id": "bae61fe5",
   "metadata": {},
   "outputs": [],
   "source": []
  }
 ],
 "metadata": {
  "kernelspec": {
   "display_name": "Python 3 (ipykernel)",
   "language": "python",
   "name": "python3"
  },
  "language_info": {
   "codemirror_mode": {
    "name": "ipython",
    "version": 3
   },
   "file_extension": ".py",
   "mimetype": "text/x-python",
   "name": "python",
   "nbconvert_exporter": "python",
   "pygments_lexer": "ipython3",
   "version": "3.9.13"
  }
 },
 "nbformat": 4,
 "nbformat_minor": 5
}
